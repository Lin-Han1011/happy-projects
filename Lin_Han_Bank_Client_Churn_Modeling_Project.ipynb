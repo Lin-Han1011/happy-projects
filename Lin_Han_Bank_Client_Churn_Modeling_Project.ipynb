{
 "cells": [
  {
   "cell_type": "markdown",
   "metadata": {},
   "source": [
    "# Bank Client Churn Modeling Project - Lin Han"
   ]
  },
  {
   "cell_type": "markdown",
   "metadata": {},
   "source": [
    "__The 'Bank client churn modeling project' aims to help a European bank identify and forecast if its client has the intend to leave the bank or continue to stay. Additionally, the model can tell bank what types of clients are likely to churn, including their demographic characteristics, estimated income levels and financial product preference. etc. Therefore, banks can provide better services to retain those clients in advance for maintaining and increasing the future revenues and profits.__"
   ]
  },
  {
   "cell_type": "markdown",
   "metadata": {},
   "source": [
    "__First, I explored the dataset “Client_Churn_Dataset” acquired from Kaggle website, visualized variables and did correlation analysis to check if the assumptions of logistic regression model are met. Then, I applied one-hot encoding to get dummy variables and split training and testing datasets. Next, I developed a logistic regression model and the final test accuracy is 81.5%. I used Scikit-learn and Statsmodels packages to improve the predictive accuracy and enhance the interpretability of my model. Finally, I created two random forest non-parameter models using different varibles (the higher test accuracy is 86.85%) to compare with the logistic regression model and ranked the importance of each independent variables. The top 5 most important variables are 'Age', 'Estimated Salary', 'Balance', 'Credit Score' and 'Number of Products'.__"
   ]
  },
  {
   "cell_type": "markdown",
   "metadata": {},
   "source": [
    "__Key findings & Recommendations from logistic regression model: (1) The more active the client is, the less likely he/she will leave the bank. Therefore, bank should apply business strategies, such as creative marketing and product innovation to activate more clients. (2) Clients in the 'Germany' market have higher probability to close the bank account, so bank should provide more attractive retention offers and better services to those clients, even conducting a client survey and research to hear their needs and requirements. (3) Bank ought to pay more attention to senior and elder customers, because they are more likely to churn than young people, the reasons behind should be further investigated. Bank should offer more targeting offers to make them more active and satisfied. (4) Other factors Gender, Number of products owned, Have credit card or not also can impact the probability to churn for clients.__"
   ]
  },
  {
   "cell_type": "markdown",
   "metadata": {},
   "source": [
    "## 1. Import packages"
   ]
  },
  {
   "cell_type": "code",
   "execution_count": 1,
   "metadata": {},
   "outputs": [],
   "source": [
    "# Import packages\n",
    "import pandas as pd\n",
    "import numpy as np\n",
    "import matplotlib.pyplot as plt\n",
    "%matplotlib inline\n",
    "\n",
    "# Data preprocessing functions\n",
    "from sklearn.utils import resample\n",
    "from sklearn.model_selection import train_test_split\n",
    "\n",
    "# Fit classification models\n",
    "from sklearn.linear_model import LogisticRegression\n",
    "import statsmodels.api as sm\n",
    "from sklearn.ensemble import RandomForestClassifier\n",
    "\n",
    "# Functions to evaluate classification model\n",
    "from sklearn.metrics import classification_report, accuracy_score, recall_score, precision_score, confusion_matrix, roc_curve, roc_auc_score"
   ]
  },
  {
   "cell_type": "code",
   "execution_count": 2,
   "metadata": {},
   "outputs": [],
   "source": [
    "# Set the style of plot\n",
    "plt.style.use('ggplot')"
   ]
  },
  {
   "cell_type": "markdown",
   "metadata": {},
   "source": [
    "## 2. Check original dataset and remove irrelevant feature"
   ]
  },
  {
   "cell_type": "markdown",
   "metadata": {},
   "source": [
    "### 2.1. Import original Client_Churn_Dataset as a dataframe df_original"
   ]
  },
  {
   "cell_type": "markdown",
   "metadata": {},
   "source": [
    "* The dataset “Client_Churn_Dataset” is acquired from Kaggle website: https://www.kaggle.com/adammaus/predicting-churn-for-bank-customers. \n",
    "* It contains detailed information of 10,000 customers of a European bank and 14 variables, including 13 independent variables and 1 binary dependent variable 'Exited' that records if a bank client churn or not churn."
   ]
  },
  {
   "cell_type": "code",
   "execution_count": 3,
   "metadata": {},
   "outputs": [],
   "source": [
    "# Load Client_Churn_Dataset from local folder\n",
    "df_original = pd.read_csv('C:/Users/han_l/Desktop/Multivariate_Project/Client_Churn_Dataset.csv')"
   ]
  },
  {
   "cell_type": "code",
   "execution_count": 4,
   "metadata": {},
   "outputs": [
    {
     "data": {
      "text/html": [
       "<div>\n",
       "<style scoped>\n",
       "    .dataframe tbody tr th:only-of-type {\n",
       "        vertical-align: middle;\n",
       "    }\n",
       "\n",
       "    .dataframe tbody tr th {\n",
       "        vertical-align: top;\n",
       "    }\n",
       "\n",
       "    .dataframe thead th {\n",
       "        text-align: right;\n",
       "    }\n",
       "</style>\n",
       "<table border=\"1\" class=\"dataframe\">\n",
       "  <thead>\n",
       "    <tr style=\"text-align: right;\">\n",
       "      <th></th>\n",
       "      <th>RowNumber</th>\n",
       "      <th>CustomerId</th>\n",
       "      <th>Surname</th>\n",
       "      <th>CreditScore</th>\n",
       "      <th>Geography</th>\n",
       "      <th>Gender</th>\n",
       "      <th>Age</th>\n",
       "      <th>Tenure</th>\n",
       "      <th>Balance</th>\n",
       "      <th>NumOfProducts</th>\n",
       "      <th>HasCrCard</th>\n",
       "      <th>IsActiveMember</th>\n",
       "      <th>EstimatedSalary</th>\n",
       "      <th>Exited</th>\n",
       "    </tr>\n",
       "  </thead>\n",
       "  <tbody>\n",
       "    <tr>\n",
       "      <th>0</th>\n",
       "      <td>1</td>\n",
       "      <td>15634602</td>\n",
       "      <td>Hargrave</td>\n",
       "      <td>619</td>\n",
       "      <td>France</td>\n",
       "      <td>Female</td>\n",
       "      <td>42</td>\n",
       "      <td>2</td>\n",
       "      <td>0.00</td>\n",
       "      <td>1</td>\n",
       "      <td>1</td>\n",
       "      <td>1</td>\n",
       "      <td>101348.88</td>\n",
       "      <td>1</td>\n",
       "    </tr>\n",
       "    <tr>\n",
       "      <th>1</th>\n",
       "      <td>2</td>\n",
       "      <td>15647311</td>\n",
       "      <td>Hill</td>\n",
       "      <td>608</td>\n",
       "      <td>Spain</td>\n",
       "      <td>Female</td>\n",
       "      <td>41</td>\n",
       "      <td>1</td>\n",
       "      <td>83807.86</td>\n",
       "      <td>1</td>\n",
       "      <td>0</td>\n",
       "      <td>1</td>\n",
       "      <td>112542.58</td>\n",
       "      <td>0</td>\n",
       "    </tr>\n",
       "    <tr>\n",
       "      <th>2</th>\n",
       "      <td>3</td>\n",
       "      <td>15619304</td>\n",
       "      <td>Onio</td>\n",
       "      <td>502</td>\n",
       "      <td>France</td>\n",
       "      <td>Female</td>\n",
       "      <td>42</td>\n",
       "      <td>8</td>\n",
       "      <td>159660.80</td>\n",
       "      <td>3</td>\n",
       "      <td>1</td>\n",
       "      <td>0</td>\n",
       "      <td>113931.57</td>\n",
       "      <td>1</td>\n",
       "    </tr>\n",
       "    <tr>\n",
       "      <th>3</th>\n",
       "      <td>4</td>\n",
       "      <td>15701354</td>\n",
       "      <td>Boni</td>\n",
       "      <td>699</td>\n",
       "      <td>France</td>\n",
       "      <td>Female</td>\n",
       "      <td>39</td>\n",
       "      <td>1</td>\n",
       "      <td>0.00</td>\n",
       "      <td>2</td>\n",
       "      <td>0</td>\n",
       "      <td>0</td>\n",
       "      <td>93826.63</td>\n",
       "      <td>0</td>\n",
       "    </tr>\n",
       "    <tr>\n",
       "      <th>4</th>\n",
       "      <td>5</td>\n",
       "      <td>15737888</td>\n",
       "      <td>Mitchell</td>\n",
       "      <td>850</td>\n",
       "      <td>Spain</td>\n",
       "      <td>Female</td>\n",
       "      <td>43</td>\n",
       "      <td>2</td>\n",
       "      <td>125510.82</td>\n",
       "      <td>1</td>\n",
       "      <td>1</td>\n",
       "      <td>1</td>\n",
       "      <td>79084.10</td>\n",
       "      <td>0</td>\n",
       "    </tr>\n",
       "  </tbody>\n",
       "</table>\n",
       "</div>"
      ],
      "text/plain": [
       "   RowNumber  CustomerId   Surname  CreditScore Geography  Gender  Age  \\\n",
       "0          1    15634602  Hargrave          619    France  Female   42   \n",
       "1          2    15647311      Hill          608     Spain  Female   41   \n",
       "2          3    15619304      Onio          502    France  Female   42   \n",
       "3          4    15701354      Boni          699    France  Female   39   \n",
       "4          5    15737888  Mitchell          850     Spain  Female   43   \n",
       "\n",
       "   Tenure    Balance  NumOfProducts  HasCrCard  IsActiveMember  \\\n",
       "0       2       0.00              1          1               1   \n",
       "1       1   83807.86              1          0               1   \n",
       "2       8  159660.80              3          1               0   \n",
       "3       1       0.00              2          0               0   \n",
       "4       2  125510.82              1          1               1   \n",
       "\n",
       "   EstimatedSalary  Exited  \n",
       "0        101348.88       1  \n",
       "1        112542.58       0  \n",
       "2        113931.57       1  \n",
       "3         93826.63       0  \n",
       "4         79084.10       0  "
      ]
     },
     "execution_count": 4,
     "metadata": {},
     "output_type": "execute_result"
    }
   ],
   "source": [
    "df_original.head()"
   ]
  },
  {
   "cell_type": "code",
   "execution_count": 5,
   "metadata": {},
   "outputs": [
    {
     "data": {
      "text/plain": [
       "(10000, 14)"
      ]
     },
     "execution_count": 5,
     "metadata": {},
     "output_type": "execute_result"
    }
   ],
   "source": [
    "# Check if the dataset size is sufficient to build model: df_original has 10000 observations and 14 columns\n",
    "df_original.shape"
   ]
  },
  {
   "cell_type": "markdown",
   "metadata": {},
   "source": [
    "### 2.2. Check original dataset missing values & duplicate records"
   ]
  },
  {
   "cell_type": "code",
   "execution_count": 6,
   "metadata": {},
   "outputs": [
    {
     "name": "stdout",
     "output_type": "stream",
     "text": [
      "<class 'pandas.core.frame.DataFrame'>\n",
      "RangeIndex: 10000 entries, 0 to 9999\n",
      "Data columns (total 14 columns):\n",
      "RowNumber          10000 non-null int64\n",
      "CustomerId         10000 non-null int64\n",
      "Surname            10000 non-null object\n",
      "CreditScore        10000 non-null int64\n",
      "Geography          10000 non-null object\n",
      "Gender             10000 non-null object\n",
      "Age                10000 non-null int64\n",
      "Tenure             10000 non-null int64\n",
      "Balance            10000 non-null float64\n",
      "NumOfProducts      10000 non-null int64\n",
      "HasCrCard          10000 non-null int64\n",
      "IsActiveMember     10000 non-null int64\n",
      "EstimatedSalary    10000 non-null float64\n",
      "Exited             10000 non-null int64\n",
      "dtypes: float64(2), int64(9), object(3)\n",
      "memory usage: 1.1+ MB\n"
     ]
    }
   ],
   "source": [
    "# Check if missing values exist and column types\n",
    "df_original.info()"
   ]
  },
  {
   "cell_type": "code",
   "execution_count": 7,
   "metadata": {},
   "outputs": [
    {
     "name": "stdout",
     "output_type": "stream",
     "text": [
      "Empty DataFrame\n",
      "Columns: [RowNumber, CustomerId, Surname, CreditScore, Geography, Gender, Age, Tenure, Balance, NumOfProducts, HasCrCard, IsActiveMember, EstimatedSalary, Exited]\n",
      "Index: []\n"
     ]
    }
   ],
   "source": [
    "# Check if duplicate rows exist based on unique 'CustomerId' column\n",
    "df_duplicate = df_original[df_original.duplicated(['CustomerId'])]\n",
    "print(df_duplicate)"
   ]
  },
  {
   "cell_type": "markdown",
   "metadata": {},
   "source": [
    "### 2.3. Remove irrelevant independut variables & Create a new dataframe df"
   ]
  },
  {
   "cell_type": "code",
   "execution_count": 8,
   "metadata": {},
   "outputs": [],
   "source": [
    "# Remove 3 features that have no impact on the churn probability, because they are specific to a client\n",
    "df = df_original.drop(columns=['RowNumber', 'CustomerId', 'Surname'])"
   ]
  },
  {
   "cell_type": "code",
   "execution_count": 9,
   "metadata": {},
   "outputs": [
    {
     "data": {
      "text/html": [
       "<div>\n",
       "<style scoped>\n",
       "    .dataframe tbody tr th:only-of-type {\n",
       "        vertical-align: middle;\n",
       "    }\n",
       "\n",
       "    .dataframe tbody tr th {\n",
       "        vertical-align: top;\n",
       "    }\n",
       "\n",
       "    .dataframe thead th {\n",
       "        text-align: right;\n",
       "    }\n",
       "</style>\n",
       "<table border=\"1\" class=\"dataframe\">\n",
       "  <thead>\n",
       "    <tr style=\"text-align: right;\">\n",
       "      <th></th>\n",
       "      <th>CreditScore</th>\n",
       "      <th>Geography</th>\n",
       "      <th>Gender</th>\n",
       "      <th>Age</th>\n",
       "      <th>Tenure</th>\n",
       "      <th>Balance</th>\n",
       "      <th>NumOfProducts</th>\n",
       "      <th>HasCrCard</th>\n",
       "      <th>IsActiveMember</th>\n",
       "      <th>EstimatedSalary</th>\n",
       "      <th>Exited</th>\n",
       "    </tr>\n",
       "  </thead>\n",
       "  <tbody>\n",
       "    <tr>\n",
       "      <th>0</th>\n",
       "      <td>619</td>\n",
       "      <td>France</td>\n",
       "      <td>Female</td>\n",
       "      <td>42</td>\n",
       "      <td>2</td>\n",
       "      <td>0.00</td>\n",
       "      <td>1</td>\n",
       "      <td>1</td>\n",
       "      <td>1</td>\n",
       "      <td>101348.88</td>\n",
       "      <td>1</td>\n",
       "    </tr>\n",
       "    <tr>\n",
       "      <th>1</th>\n",
       "      <td>608</td>\n",
       "      <td>Spain</td>\n",
       "      <td>Female</td>\n",
       "      <td>41</td>\n",
       "      <td>1</td>\n",
       "      <td>83807.86</td>\n",
       "      <td>1</td>\n",
       "      <td>0</td>\n",
       "      <td>1</td>\n",
       "      <td>112542.58</td>\n",
       "      <td>0</td>\n",
       "    </tr>\n",
       "    <tr>\n",
       "      <th>2</th>\n",
       "      <td>502</td>\n",
       "      <td>France</td>\n",
       "      <td>Female</td>\n",
       "      <td>42</td>\n",
       "      <td>8</td>\n",
       "      <td>159660.80</td>\n",
       "      <td>3</td>\n",
       "      <td>1</td>\n",
       "      <td>0</td>\n",
       "      <td>113931.57</td>\n",
       "      <td>1</td>\n",
       "    </tr>\n",
       "    <tr>\n",
       "      <th>3</th>\n",
       "      <td>699</td>\n",
       "      <td>France</td>\n",
       "      <td>Female</td>\n",
       "      <td>39</td>\n",
       "      <td>1</td>\n",
       "      <td>0.00</td>\n",
       "      <td>2</td>\n",
       "      <td>0</td>\n",
       "      <td>0</td>\n",
       "      <td>93826.63</td>\n",
       "      <td>0</td>\n",
       "    </tr>\n",
       "    <tr>\n",
       "      <th>4</th>\n",
       "      <td>850</td>\n",
       "      <td>Spain</td>\n",
       "      <td>Female</td>\n",
       "      <td>43</td>\n",
       "      <td>2</td>\n",
       "      <td>125510.82</td>\n",
       "      <td>1</td>\n",
       "      <td>1</td>\n",
       "      <td>1</td>\n",
       "      <td>79084.10</td>\n",
       "      <td>0</td>\n",
       "    </tr>\n",
       "  </tbody>\n",
       "</table>\n",
       "</div>"
      ],
      "text/plain": [
       "   CreditScore Geography  Gender  Age  Tenure    Balance  NumOfProducts  \\\n",
       "0          619    France  Female   42       2       0.00              1   \n",
       "1          608     Spain  Female   41       1   83807.86              1   \n",
       "2          502    France  Female   42       8  159660.80              3   \n",
       "3          699    France  Female   39       1       0.00              2   \n",
       "4          850     Spain  Female   43       2  125510.82              1   \n",
       "\n",
       "   HasCrCard  IsActiveMember  EstimatedSalary  Exited  \n",
       "0          1               1        101348.88       1  \n",
       "1          0               1        112542.58       0  \n",
       "2          1               0        113931.57       1  \n",
       "3          0               0         93826.63       0  \n",
       "4          1               1         79084.10       0  "
      ]
     },
     "execution_count": 9,
     "metadata": {},
     "output_type": "execute_result"
    }
   ],
   "source": [
    "df.head()"
   ]
  },
  {
   "cell_type": "markdown",
   "metadata": {},
   "source": [
    "## 3. Explore variables and correlation analysis"
   ]
  },
  {
   "cell_type": "markdown",
   "metadata": {},
   "source": [
    "### 3.1. Explore target variable 'Exited'"
   ]
  },
  {
   "cell_type": "markdown",
   "metadata": {},
   "source": [
    "* The dependent variable 'Exited' is binary indicating whether the client decided to leave the bank or not leave (0 means not churn and 1 means churn).\n",
    "* 79.6% bank clients did not churn, while 20.4% clients left the bank, so the reasons behind should be carefully investigated for the bank to retain clients.\n",
    "* On average, clients exited have slightly lower credit score, larger age, higher balance, less active and higher estimated salary than clients continue to stay in the bank. "
   ]
  },
  {
   "cell_type": "code",
   "execution_count": 10,
   "metadata": {},
   "outputs": [
    {
     "data": {
      "text/html": [
       "<div>\n",
       "<style scoped>\n",
       "    .dataframe tbody tr th:only-of-type {\n",
       "        vertical-align: middle;\n",
       "    }\n",
       "\n",
       "    .dataframe tbody tr th {\n",
       "        vertical-align: top;\n",
       "    }\n",
       "\n",
       "    .dataframe thead th {\n",
       "        text-align: right;\n",
       "    }\n",
       "</style>\n",
       "<table border=\"1\" class=\"dataframe\">\n",
       "  <thead>\n",
       "    <tr style=\"text-align: right;\">\n",
       "      <th></th>\n",
       "      <th>CreditScore</th>\n",
       "      <th>Age</th>\n",
       "      <th>Tenure</th>\n",
       "      <th>Balance</th>\n",
       "      <th>NumOfProducts</th>\n",
       "      <th>HasCrCard</th>\n",
       "      <th>IsActiveMember</th>\n",
       "      <th>EstimatedSalary</th>\n",
       "    </tr>\n",
       "    <tr>\n",
       "      <th>Exited</th>\n",
       "      <th></th>\n",
       "      <th></th>\n",
       "      <th></th>\n",
       "      <th></th>\n",
       "      <th></th>\n",
       "      <th></th>\n",
       "      <th></th>\n",
       "      <th></th>\n",
       "    </tr>\n",
       "  </thead>\n",
       "  <tbody>\n",
       "    <tr>\n",
       "      <th>0</th>\n",
       "      <td>651.853196</td>\n",
       "      <td>37.408389</td>\n",
       "      <td>5.033279</td>\n",
       "      <td>72745.296779</td>\n",
       "      <td>1.544267</td>\n",
       "      <td>0.707146</td>\n",
       "      <td>0.554565</td>\n",
       "      <td>99738.391772</td>\n",
       "    </tr>\n",
       "    <tr>\n",
       "      <th>1</th>\n",
       "      <td>645.351497</td>\n",
       "      <td>44.837997</td>\n",
       "      <td>4.932744</td>\n",
       "      <td>91108.539337</td>\n",
       "      <td>1.475209</td>\n",
       "      <td>0.699067</td>\n",
       "      <td>0.360825</td>\n",
       "      <td>101465.677531</td>\n",
       "    </tr>\n",
       "  </tbody>\n",
       "</table>\n",
       "</div>"
      ],
      "text/plain": [
       "        CreditScore        Age    Tenure       Balance  NumOfProducts  \\\n",
       "Exited                                                                  \n",
       "0        651.853196  37.408389  5.033279  72745.296779       1.544267   \n",
       "1        645.351497  44.837997  4.932744  91108.539337       1.475209   \n",
       "\n",
       "        HasCrCard  IsActiveMember  EstimatedSalary  \n",
       "Exited                                              \n",
       "0        0.707146        0.554565     99738.391772  \n",
       "1        0.699067        0.360825    101465.677531  "
      ]
     },
     "execution_count": 10,
     "metadata": {},
     "output_type": "execute_result"
    }
   ],
   "source": [
    "# Overview of client chrun or not churn: seems clients have older age, higher balance and estimate salary tend to leave\n",
    "df.groupby('Exited').mean()"
   ]
  },
  {
   "cell_type": "code",
   "execution_count": 11,
   "metadata": {},
   "outputs": [
    {
     "data": {
      "text/plain": [
       "0    7963\n",
       "1    2037\n",
       "Name: Exited, dtype: int64"
      ]
     },
     "execution_count": 11,
     "metadata": {},
     "output_type": "execute_result"
    }
   ],
   "source": [
    "# Check target variable 'Exited' is binary & how many clients churned and not churn\n",
    "df['Exited'].value_counts()"
   ]
  },
  {
   "cell_type": "code",
   "execution_count": 12,
   "metadata": {},
   "outputs": [
    {
     "data": {
      "image/png": "[encoded data removed]",
      "text/plain": [
       "<Figure size 216x216 with 1 Axes>"
      ]
     },
     "metadata": {},
     "output_type": "display_data"
    }
   ],
   "source": [
    "df.hist(column='Exited', grid=False, xrot = 45, figsize=(3,3), color='#86bf91')\n",
    "plt.title('Client Churn Or Not Churn')\n",
    "plt.xlabel('0 means \"not churn\", 1 means \"churn\"')\n",
    "plt.ylabel('Number of Clients')\n",
    "plt.show()"
   ]
  },
  {
   "cell_type": "markdown",
   "metadata": {},
   "source": [
    "### 3.2. Explore and visualize  2 categorical independent variables 'Geography' and 'Gender'"
   ]
  },
  {
   "cell_type": "markdown",
   "metadata": {},
   "source": [
    "* The bank has 3 target markets, including France, Spain, and Germany.\n",
    "* Half of the clients were from France (50.14%), and 25.09% were from Germany, 24.77% were from Spain. \n",
    "* Germany has the highest churn rate (32.44% exited) and highest balance (119730) among the 3 regions, while France where the major clients come from has the lowest churn rate (16.15% exited) and Spain has a similar churn rate (16.67% exited).\n",
    "* The bank has more male clients (54.57%) than female clients (45.43%). \n",
    "* Female has a higher churn rate 25.1% than that of male 16.5%. "
   ]
  },
  {
   "cell_type": "code",
   "execution_count": 13,
   "metadata": {},
   "outputs": [
    {
     "data": {
      "text/html": [
       "<div>\n",
       "<style scoped>\n",
       "    .dataframe tbody tr th:only-of-type {\n",
       "        vertical-align: middle;\n",
       "    }\n",
       "\n",
       "    .dataframe tbody tr th {\n",
       "        vertical-align: top;\n",
       "    }\n",
       "\n",
       "    .dataframe thead th {\n",
       "        text-align: right;\n",
       "    }\n",
       "</style>\n",
       "<table border=\"1\" class=\"dataframe\">\n",
       "  <thead>\n",
       "    <tr style=\"text-align: right;\">\n",
       "      <th></th>\n",
       "      <th>CreditScore</th>\n",
       "      <th>Age</th>\n",
       "      <th>Tenure</th>\n",
       "      <th>Balance</th>\n",
       "      <th>NumOfProducts</th>\n",
       "      <th>HasCrCard</th>\n",
       "      <th>IsActiveMember</th>\n",
       "      <th>EstimatedSalary</th>\n",
       "      <th>Exited</th>\n",
       "    </tr>\n",
       "    <tr>\n",
       "      <th>Geography</th>\n",
       "      <th></th>\n",
       "      <th></th>\n",
       "      <th></th>\n",
       "      <th></th>\n",
       "      <th></th>\n",
       "      <th></th>\n",
       "      <th></th>\n",
       "      <th></th>\n",
       "      <th></th>\n",
       "    </tr>\n",
       "  </thead>\n",
       "  <tbody>\n",
       "    <tr>\n",
       "      <th>France</th>\n",
       "      <td>649.668329</td>\n",
       "      <td>38.511767</td>\n",
       "      <td>5.004587</td>\n",
       "      <td>62092.636516</td>\n",
       "      <td>1.530913</td>\n",
       "      <td>0.706621</td>\n",
       "      <td>0.516753</td>\n",
       "      <td>99899.180814</td>\n",
       "      <td>0.161548</td>\n",
       "    </tr>\n",
       "    <tr>\n",
       "      <th>Germany</th>\n",
       "      <td>651.453567</td>\n",
       "      <td>39.771622</td>\n",
       "      <td>5.009964</td>\n",
       "      <td>119730.116134</td>\n",
       "      <td>1.519729</td>\n",
       "      <td>0.713830</td>\n",
       "      <td>0.497409</td>\n",
       "      <td>101113.435102</td>\n",
       "      <td>0.324432</td>\n",
       "    </tr>\n",
       "    <tr>\n",
       "      <th>Spain</th>\n",
       "      <td>651.333872</td>\n",
       "      <td>38.890997</td>\n",
       "      <td>5.032297</td>\n",
       "      <td>61818.147763</td>\n",
       "      <td>1.539362</td>\n",
       "      <td>0.694792</td>\n",
       "      <td>0.529673</td>\n",
       "      <td>99440.572281</td>\n",
       "      <td>0.166734</td>\n",
       "    </tr>\n",
       "  </tbody>\n",
       "</table>\n",
       "</div>"
      ],
      "text/plain": [
       "           CreditScore        Age    Tenure        Balance  NumOfProducts  \\\n",
       "Geography                                                                   \n",
       "France      649.668329  38.511767  5.004587   62092.636516       1.530913   \n",
       "Germany     651.453567  39.771622  5.009964  119730.116134       1.519729   \n",
       "Spain       651.333872  38.890997  5.032297   61818.147763       1.539362   \n",
       "\n",
       "           HasCrCard  IsActiveMember  EstimatedSalary    Exited  \n",
       "Geography                                                        \n",
       "France      0.706621        0.516753     99899.180814  0.161548  \n",
       "Germany     0.713830        0.497409    101113.435102  0.324432  \n",
       "Spain       0.694792        0.529673     99440.572281  0.166734  "
      ]
     },
     "execution_count": 13,
     "metadata": {},
     "output_type": "execute_result"
    }
   ],
   "source": [
    "# Calculate categorical means for 'Geography'\n",
    "df.groupby('Geography').mean()"
   ]
  },
  {
   "cell_type": "code",
   "execution_count": 14,
   "metadata": {},
   "outputs": [
    {
     "data": {
      "text/plain": [
       "France     5014\n",
       "Germany    2509\n",
       "Spain      2477\n",
       "Name: Geography, dtype: int64"
      ]
     },
     "execution_count": 14,
     "metadata": {},
     "output_type": "execute_result"
    }
   ],
   "source": [
    "df['Geography'].value_counts()"
   ]
  },
  {
   "cell_type": "code",
   "execution_count": 15,
   "metadata": {},
   "outputs": [
    {
     "data": {
      "image/png": "[encoded data removed]",
      "text/plain": [
       "<Figure size 432x288 with 1 Axes>"
      ]
     },
     "metadata": {},
     "output_type": "display_data"
    }
   ],
   "source": [
    "# Visualize the independent varible 'Exited' by 3 regions\n",
    "pd.crosstab(df.Geography, df.Exited).plot(kind='bar', stacked=True)\n",
    "plt.title('Client Churn Frequency for Geography')\n",
    "plt.xlabel('Region')\n",
    "plt.ylabel('Frequency of Client Churn')\n",
    "plt.show()"
   ]
  },
  {
   "cell_type": "code",
   "execution_count": 16,
   "metadata": {},
   "outputs": [
    {
     "data": {
      "text/html": [
       "<div>\n",
       "<style scoped>\n",
       "    .dataframe tbody tr th:only-of-type {\n",
       "        vertical-align: middle;\n",
       "    }\n",
       "\n",
       "    .dataframe tbody tr th {\n",
       "        vertical-align: top;\n",
       "    }\n",
       "\n",
       "    .dataframe thead th {\n",
       "        text-align: right;\n",
       "    }\n",
       "</style>\n",
       "<table border=\"1\" class=\"dataframe\">\n",
       "  <thead>\n",
       "    <tr style=\"text-align: right;\">\n",
       "      <th></th>\n",
       "      <th>CreditScore</th>\n",
       "      <th>Age</th>\n",
       "      <th>Tenure</th>\n",
       "      <th>Balance</th>\n",
       "      <th>NumOfProducts</th>\n",
       "      <th>HasCrCard</th>\n",
       "      <th>IsActiveMember</th>\n",
       "      <th>EstimatedSalary</th>\n",
       "      <th>Exited</th>\n",
       "    </tr>\n",
       "    <tr>\n",
       "      <th>Gender</th>\n",
       "      <th></th>\n",
       "      <th></th>\n",
       "      <th></th>\n",
       "      <th></th>\n",
       "      <th></th>\n",
       "      <th></th>\n",
       "      <th></th>\n",
       "      <th></th>\n",
       "      <th></th>\n",
       "    </tr>\n",
       "  </thead>\n",
       "  <tbody>\n",
       "    <tr>\n",
       "      <th>Female</th>\n",
       "      <td>650.831389</td>\n",
       "      <td>39.238389</td>\n",
       "      <td>4.966102</td>\n",
       "      <td>75659.369139</td>\n",
       "      <td>1.544134</td>\n",
       "      <td>0.702619</td>\n",
       "      <td>0.502751</td>\n",
       "      <td>100601.541382</td>\n",
       "      <td>0.250715</td>\n",
       "    </tr>\n",
       "    <tr>\n",
       "      <th>Male</th>\n",
       "      <td>650.276892</td>\n",
       "      <td>38.658237</td>\n",
       "      <td>5.051677</td>\n",
       "      <td>77173.974506</td>\n",
       "      <td>1.518600</td>\n",
       "      <td>0.707898</td>\n",
       "      <td>0.525380</td>\n",
       "      <td>99664.576931</td>\n",
       "      <td>0.164559</td>\n",
       "    </tr>\n",
       "  </tbody>\n",
       "</table>\n",
       "</div>"
      ],
      "text/plain": [
       "        CreditScore        Age    Tenure       Balance  NumOfProducts  \\\n",
       "Gender                                                                  \n",
       "Female   650.831389  39.238389  4.966102  75659.369139       1.544134   \n",
       "Male     650.276892  38.658237  5.051677  77173.974506       1.518600   \n",
       "\n",
       "        HasCrCard  IsActiveMember  EstimatedSalary    Exited  \n",
       "Gender                                                        \n",
       "Female   0.702619        0.502751    100601.541382  0.250715  \n",
       "Male     0.707898        0.525380     99664.576931  0.164559  "
      ]
     },
     "execution_count": 16,
     "metadata": {},
     "output_type": "execute_result"
    }
   ],
   "source": [
    "# Calculate categorical means for 'Gender'\n",
    "df.groupby('Gender').mean()"
   ]
  },
  {
   "cell_type": "code",
   "execution_count": 17,
   "metadata": {},
   "outputs": [
    {
     "data": {
      "text/plain": [
       "Male      5457\n",
       "Female    4543\n",
       "Name: Gender, dtype: int64"
      ]
     },
     "execution_count": 17,
     "metadata": {},
     "output_type": "execute_result"
    }
   ],
   "source": [
    "df['Gender'].value_counts()"
   ]
  },
  {
   "cell_type": "code",
   "execution_count": 18,
   "metadata": {},
   "outputs": [
    {
     "data": {
      "image/png": "[encoded data removed]",
      "text/plain": [
       "<Figure size 432x288 with 1 Axes>"
      ]
     },
     "metadata": {},
     "output_type": "display_data"
    }
   ],
   "source": [
    "# Visualize the independent varible 'Exited' by 'Gender'\n",
    "pd.crosstab(df.Gender, df.Exited).plot(kind='bar', stacked=True)\n",
    "plt.title('Client Churn Frequency for Gender')\n",
    "plt.xlabel('Gender')\n",
    "plt.ylabel('Frequency of Client Churn')\n",
    "plt.show()"
   ]
  },
  {
   "cell_type": "markdown",
   "metadata": {},
   "source": [
    "### 3.3. Explore and visualize the rest 9 continuous variables"
   ]
  },
  {
   "cell_type": "markdown",
   "metadata": {},
   "source": [
    "* The clients' age group is mainly from 25 to 50 years old, and the average age is 38.9 years old. \n",
    "* Older customers seem more likely to churn than the younger clients, while other variables seem not significantly affect the likelihood to churn. \n",
    "* The reasons of why older clients tend to close the bank account can be: (1) They may have more considerations and higher standards for products and services when they choose a bank. (2) They always have a higher level of salaries and savings, so that the competitors would like to win this group of clients. Additionally, for those clients elder than 75 years old, the reasons behind need to be further investigated (considering the health care issues. etc.)\n",
    "* Credit score is mainly ranging from 550 to 750, and the average score is 650.5.\n",
    "* Tenure is mainly ranging from 2 to 8 years, and the average tenure is 5 years.\n",
    "* There is a huge number of zero (0) balance clients (more than 35%), and the mean of balance is 76,485 euro (I assume the European bank use euro for clients balance and esrimated salary).\n",
    "* Most clients have 1 or 2 products, and the average number of products is 1.53, but more details of products are not given in the dataset.\n",
    "* Around 70% of clients had at least 1 credit card.\n",
    "* Slightly more than half of the clients (51.51%) are active members. \n",
    "* Estimated salary is mainly ranging from €42,580 to €157,600, and the average estimated salary is €100,090.\n",
    "* As mentione before, 79.6% bank clients continue to stay, while 20.37% clients left the bank."
   ]
  },
  {
   "cell_type": "code",
   "execution_count": 19,
   "metadata": {},
   "outputs": [
    {
     "data": {
      "text/html": [
       "<div>\n",
       "<style scoped>\n",
       "    .dataframe tbody tr th:only-of-type {\n",
       "        vertical-align: middle;\n",
       "    }\n",
       "\n",
       "    .dataframe tbody tr th {\n",
       "        vertical-align: top;\n",
       "    }\n",
       "\n",
       "    .dataframe thead th {\n",
       "        text-align: right;\n",
       "    }\n",
       "</style>\n",
       "<table border=\"1\" class=\"dataframe\">\n",
       "  <thead>\n",
       "    <tr style=\"text-align: right;\">\n",
       "      <th></th>\n",
       "      <th>CreditScore</th>\n",
       "      <th>Age</th>\n",
       "      <th>Tenure</th>\n",
       "      <th>Balance</th>\n",
       "      <th>NumOfProducts</th>\n",
       "      <th>HasCrCard</th>\n",
       "      <th>IsActiveMember</th>\n",
       "      <th>EstimatedSalary</th>\n",
       "      <th>Exited</th>\n",
       "    </tr>\n",
       "  </thead>\n",
       "  <tbody>\n",
       "    <tr>\n",
       "      <th>count</th>\n",
       "      <td>10000.000000</td>\n",
       "      <td>10000.000000</td>\n",
       "      <td>10000.000000</td>\n",
       "      <td>10000.000000</td>\n",
       "      <td>10000.000000</td>\n",
       "      <td>10000.00000</td>\n",
       "      <td>10000.000000</td>\n",
       "      <td>10000.000000</td>\n",
       "      <td>10000.000000</td>\n",
       "    </tr>\n",
       "    <tr>\n",
       "      <th>mean</th>\n",
       "      <td>650.528800</td>\n",
       "      <td>38.921800</td>\n",
       "      <td>5.012800</td>\n",
       "      <td>76485.889288</td>\n",
       "      <td>1.530200</td>\n",
       "      <td>0.70550</td>\n",
       "      <td>0.515100</td>\n",
       "      <td>100090.239881</td>\n",
       "      <td>0.203700</td>\n",
       "    </tr>\n",
       "    <tr>\n",
       "      <th>std</th>\n",
       "      <td>96.653299</td>\n",
       "      <td>10.487806</td>\n",
       "      <td>2.892174</td>\n",
       "      <td>62397.405202</td>\n",
       "      <td>0.581654</td>\n",
       "      <td>0.45584</td>\n",
       "      <td>0.499797</td>\n",
       "      <td>57510.492818</td>\n",
       "      <td>0.402769</td>\n",
       "    </tr>\n",
       "    <tr>\n",
       "      <th>min</th>\n",
       "      <td>350.000000</td>\n",
       "      <td>18.000000</td>\n",
       "      <td>0.000000</td>\n",
       "      <td>0.000000</td>\n",
       "      <td>1.000000</td>\n",
       "      <td>0.00000</td>\n",
       "      <td>0.000000</td>\n",
       "      <td>11.580000</td>\n",
       "      <td>0.000000</td>\n",
       "    </tr>\n",
       "    <tr>\n",
       "      <th>25%</th>\n",
       "      <td>584.000000</td>\n",
       "      <td>32.000000</td>\n",
       "      <td>3.000000</td>\n",
       "      <td>0.000000</td>\n",
       "      <td>1.000000</td>\n",
       "      <td>0.00000</td>\n",
       "      <td>0.000000</td>\n",
       "      <td>51002.110000</td>\n",
       "      <td>0.000000</td>\n",
       "    </tr>\n",
       "    <tr>\n",
       "      <th>50%</th>\n",
       "      <td>652.000000</td>\n",
       "      <td>37.000000</td>\n",
       "      <td>5.000000</td>\n",
       "      <td>97198.540000</td>\n",
       "      <td>1.000000</td>\n",
       "      <td>1.00000</td>\n",
       "      <td>1.000000</td>\n",
       "      <td>100193.915000</td>\n",
       "      <td>0.000000</td>\n",
       "    </tr>\n",
       "    <tr>\n",
       "      <th>75%</th>\n",
       "      <td>718.000000</td>\n",
       "      <td>44.000000</td>\n",
       "      <td>7.000000</td>\n",
       "      <td>127644.240000</td>\n",
       "      <td>2.000000</td>\n",
       "      <td>1.00000</td>\n",
       "      <td>1.000000</td>\n",
       "      <td>149388.247500</td>\n",
       "      <td>0.000000</td>\n",
       "    </tr>\n",
       "    <tr>\n",
       "      <th>max</th>\n",
       "      <td>850.000000</td>\n",
       "      <td>92.000000</td>\n",
       "      <td>10.000000</td>\n",
       "      <td>250898.090000</td>\n",
       "      <td>4.000000</td>\n",
       "      <td>1.00000</td>\n",
       "      <td>1.000000</td>\n",
       "      <td>199992.480000</td>\n",
       "      <td>1.000000</td>\n",
       "    </tr>\n",
       "  </tbody>\n",
       "</table>\n",
       "</div>"
      ],
      "text/plain": [
       "        CreditScore           Age        Tenure        Balance  NumOfProducts  \\\n",
       "count  10000.000000  10000.000000  10000.000000   10000.000000   10000.000000   \n",
       "mean     650.528800     38.921800      5.012800   76485.889288       1.530200   \n",
       "std       96.653299     10.487806      2.892174   62397.405202       0.581654   \n",
       "min      350.000000     18.000000      0.000000       0.000000       1.000000   \n",
       "25%      584.000000     32.000000      3.000000       0.000000       1.000000   \n",
       "50%      652.000000     37.000000      5.000000   97198.540000       1.000000   \n",
       "75%      718.000000     44.000000      7.000000  127644.240000       2.000000   \n",
       "max      850.000000     92.000000     10.000000  250898.090000       4.000000   \n",
       "\n",
       "         HasCrCard  IsActiveMember  EstimatedSalary        Exited  \n",
       "count  10000.00000    10000.000000     10000.000000  10000.000000  \n",
       "mean       0.70550        0.515100    100090.239881      0.203700  \n",
       "std        0.45584        0.499797     57510.492818      0.402769  \n",
       "min        0.00000        0.000000        11.580000      0.000000  \n",
       "25%        0.00000        0.000000     51002.110000      0.000000  \n",
       "50%        1.00000        1.000000    100193.915000      0.000000  \n",
       "75%        1.00000        1.000000    149388.247500      0.000000  \n",
       "max        1.00000        1.000000    199992.480000      1.000000  "
      ]
     },
     "execution_count": 19,
     "metadata": {},
     "output_type": "execute_result"
    }
   ],
   "source": [
    "# Explore the rest 9 continuous variables, including 8 input variables and 1 target variable 'Exited'\n",
    "df.describe()"
   ]
  },
  {
   "cell_type": "code",
   "execution_count": 20,
   "metadata": {},
   "outputs": [
    {
     "data": {
      "image/png": "[encoded data removed]",
      "text/plain": [
       "<Figure size 864x864 with 9 Axes>"
      ]
     },
     "metadata": {},
     "output_type": "display_data"
    }
   ],
   "source": [
    "# Visualize 9 continuous variables using histogram\n",
    "df.hist(grid=False, xrot = 45, figsize=(12,12))\n",
    "plt.show()"
   ]
  },
  {
   "cell_type": "code",
   "execution_count": 21,
   "metadata": {},
   "outputs": [
    {
     "data": {
      "image/png": "[encoded data removed]",
      "text/plain": [
       "<Figure size 360x360 with 1 Axes>"
      ]
     },
     "metadata": {},
     "output_type": "display_data"
    },
    {
     "data": {
      "image/png": "[encoded data removed]",
      "text/plain": [
       "<Figure size 360x360 with 1 Axes>"
      ]
     },
     "metadata": {},
     "output_type": "display_data"
    },
    {
     "data": {
      "image/png": "[encoded data removed]",
      "text/plain": [
       "<Figure size 720x720 with 4 Axes>"
      ]
     },
     "metadata": {},
     "output_type": "display_data"
    },
    {
     "data": {
      "image/png": "[encoded data removed]",
      "text/plain": [
       "<Figure size 720x360 with 2 Axes>"
      ]
     },
     "metadata": {},
     "output_type": "display_data"
    }
   ],
   "source": [
    "# Visualize 9 variables using boxplot\n",
    "df.boxplot(column = ['CreditScore'], by = 'Exited', rot = 45, grid=False, figsize=(5,5))\n",
    "df.boxplot(column = ['Age'], by = 'Exited', rot = 45, grid=False, figsize=(5,5)) \n",
    "df.boxplot(column = ['Tenure', 'NumOfProducts', 'HasCrCard', 'IsActiveMember'], by = 'Exited', rot = 45, grid=False, figsize=(10,10))\n",
    "df.boxplot(column = ['Balance', 'EstimatedSalary'], by = 'Exited', rot = 45, grid=False, figsize=(10,5))\n",
    "plt.show()"
   ]
  },
  {
   "cell_type": "code",
   "execution_count": 22,
   "metadata": {},
   "outputs": [
    {
     "data": {
      "image/png": "[encoded data removed]",
      "text/plain": [
       "<Figure size 432x288 with 1 Axes>"
      ]
     },
     "metadata": {},
     "output_type": "display_data"
    }
   ],
   "source": [
    "# Explore 'Age' variable: seems clients > 75 yrs old tend to churn, but the reasons need to be further investigated\n",
    "plt.scatter(df.Age, df.Exited, marker='+', color='red')\n",
    "plt.show()"
   ]
  },
  {
   "cell_type": "markdown",
   "metadata": {},
   "source": [
    "### 3.4. Correlation analysis on independent variables"
   ]
  },
  {
   "cell_type": "markdown",
   "metadata": {},
   "source": [
    "* As shown in the below correlation graph, none of the 8 independent continuous variables has a strong correlation with each other. That means there is no significant collinearty, so the assumption of logistic regression model is met. "
   ]
  },
  {
   "cell_type": "code",
   "execution_count": 23,
   "metadata": {},
   "outputs": [],
   "source": [
    "# correlation analysis on variables, delete the target variable 'Exited'\n",
    "df_corr = df.drop('Exited', 1)"
   ]
  },
  {
   "cell_type": "code",
   "execution_count": 24,
   "metadata": {},
   "outputs": [
    {
     "data": {
      "text/html": [
       "<style  type=\"text/css\" >\n",
       "    #T_9b296ee2_98b0_11ea_bb5c_9c305b13d6f0row0_col0 {\n",
       "            background-color:  #b40426;\n",
       "            color:  #f1f1f1;\n",
       "        }    #T_9b296ee2_98b0_11ea_bb5c_9c305b13d6f0row0_col1 {\n",
       "            background-color:  #4257c9;\n",
       "            color:  #f1f1f1;\n",
       "        }    #T_9b296ee2_98b0_11ea_bb5c_9c305b13d6f0row0_col2 {\n",
       "            background-color:  #4358cb;\n",
       "            color:  #f1f1f1;\n",
       "        }    #T_9b296ee2_98b0_11ea_bb5c_9c305b13d6f0row0_col3 {\n",
       "            background-color:  #88abfd;\n",
       "            color:  #000000;\n",
       "        }    #T_9b296ee2_98b0_11ea_bb5c_9c305b13d6f0row0_col4 {\n",
       "            background-color:  #8badfd;\n",
       "            color:  #000000;\n",
       "        }    #T_9b296ee2_98b0_11ea_bb5c_9c305b13d6f0row0_col5 {\n",
       "            background-color:  #3d50c3;\n",
       "            color:  #f1f1f1;\n",
       "        }    #T_9b296ee2_98b0_11ea_bb5c_9c305b13d6f0row0_col6 {\n",
       "            background-color:  #4a63d3;\n",
       "            color:  #f1f1f1;\n",
       "        }    #T_9b296ee2_98b0_11ea_bb5c_9c305b13d6f0row0_col7 {\n",
       "            background-color:  #3d50c3;\n",
       "            color:  #f1f1f1;\n",
       "        }    #T_9b296ee2_98b0_11ea_bb5c_9c305b13d6f0row1_col0 {\n",
       "            background-color:  #3b4cc0;\n",
       "            color:  #f1f1f1;\n",
       "        }    #T_9b296ee2_98b0_11ea_bb5c_9c305b13d6f0row1_col1 {\n",
       "            background-color:  #b40426;\n",
       "            color:  #f1f1f1;\n",
       "        }    #T_9b296ee2_98b0_11ea_bb5c_9c305b13d6f0row1_col2 {\n",
       "            background-color:  #3f53c6;\n",
       "            color:  #f1f1f1;\n",
       "        }    #T_9b296ee2_98b0_11ea_bb5c_9c305b13d6f0row1_col3 {\n",
       "            background-color:  #8fb1fe;\n",
       "            color:  #000000;\n",
       "        }    #T_9b296ee2_98b0_11ea_bb5c_9c305b13d6f0row1_col4 {\n",
       "            background-color:  #7ea1fa;\n",
       "            color:  #000000;\n",
       "        }    #T_9b296ee2_98b0_11ea_bb5c_9c305b13d6f0row1_col5 {\n",
       "            background-color:  #3b4cc0;\n",
       "            color:  #f1f1f1;\n",
       "        }    #T_9b296ee2_98b0_11ea_bb5c_9c305b13d6f0row1_col6 {\n",
       "            background-color:  #5d7ce6;\n",
       "            color:  #000000;\n",
       "        }    #T_9b296ee2_98b0_11ea_bb5c_9c305b13d6f0row1_col7 {\n",
       "            background-color:  #3c4ec2;\n",
       "            color:  #f1f1f1;\n",
       "        }    #T_9b296ee2_98b0_11ea_bb5c_9c305b13d6f0row2_col0 {\n",
       "            background-color:  #3c4ec2;\n",
       "            color:  #f1f1f1;\n",
       "        }    #T_9b296ee2_98b0_11ea_bb5c_9c305b13d6f0row2_col1 {\n",
       "            background-color:  #4055c8;\n",
       "            color:  #f1f1f1;\n",
       "        }    #T_9b296ee2_98b0_11ea_bb5c_9c305b13d6f0row2_col2 {\n",
       "            background-color:  #b40426;\n",
       "            color:  #f1f1f1;\n",
       "        }    #T_9b296ee2_98b0_11ea_bb5c_9c305b13d6f0row2_col3 {\n",
       "            background-color:  #84a7fc;\n",
       "            color:  #000000;\n",
       "        }    #T_9b296ee2_98b0_11ea_bb5c_9c305b13d6f0row2_col4 {\n",
       "            background-color:  #8badfd;\n",
       "            color:  #000000;\n",
       "        }    #T_9b296ee2_98b0_11ea_bb5c_9c305b13d6f0row2_col5 {\n",
       "            background-color:  #455cce;\n",
       "            color:  #f1f1f1;\n",
       "        }    #T_9b296ee2_98b0_11ea_bb5c_9c305b13d6f0row2_col6 {\n",
       "            background-color:  #3b4cc0;\n",
       "            color:  #f1f1f1;\n",
       "        }    #T_9b296ee2_98b0_11ea_bb5c_9c305b13d6f0row2_col7 {\n",
       "            background-color:  #3f53c6;\n",
       "            color:  #f1f1f1;\n",
       "        }    #T_9b296ee2_98b0_11ea_bb5c_9c305b13d6f0row3_col0 {\n",
       "            background-color:  #3d50c3;\n",
       "            color:  #f1f1f1;\n",
       "        }    #T_9b296ee2_98b0_11ea_bb5c_9c305b13d6f0row3_col1 {\n",
       "            background-color:  #4b64d5;\n",
       "            color:  #f1f1f1;\n",
       "        }    #T_9b296ee2_98b0_11ea_bb5c_9c305b13d6f0row3_col2 {\n",
       "            background-color:  #3f53c6;\n",
       "            color:  #f1f1f1;\n",
       "        }    #T_9b296ee2_98b0_11ea_bb5c_9c305b13d6f0row3_col3 {\n",
       "            background-color:  #b40426;\n",
       "            color:  #f1f1f1;\n",
       "        }    #T_9b296ee2_98b0_11ea_bb5c_9c305b13d6f0row3_col4 {\n",
       "            background-color:  #3b4cc0;\n",
       "            color:  #f1f1f1;\n",
       "        }    #T_9b296ee2_98b0_11ea_bb5c_9c305b13d6f0row3_col5 {\n",
       "            background-color:  #3b4cc0;\n",
       "            color:  #f1f1f1;\n",
       "        }    #T_9b296ee2_98b0_11ea_bb5c_9c305b13d6f0row3_col6 {\n",
       "            background-color:  #3f53c6;\n",
       "            color:  #f1f1f1;\n",
       "        }    #T_9b296ee2_98b0_11ea_bb5c_9c305b13d6f0row3_col7 {\n",
       "            background-color:  #4257c9;\n",
       "            color:  #f1f1f1;\n",
       "        }    #T_9b296ee2_98b0_11ea_bb5c_9c305b13d6f0row4_col0 {\n",
       "            background-color:  #3f53c6;\n",
       "            color:  #f1f1f1;\n",
       "        }    #T_9b296ee2_98b0_11ea_bb5c_9c305b13d6f0row4_col1 {\n",
       "            background-color:  #3b4cc0;\n",
       "            color:  #f1f1f1;\n",
       "        }    #T_9b296ee2_98b0_11ea_bb5c_9c305b13d6f0row4_col2 {\n",
       "            background-color:  #465ecf;\n",
       "            color:  #f1f1f1;\n",
       "        }    #T_9b296ee2_98b0_11ea_bb5c_9c305b13d6f0row4_col3 {\n",
       "            background-color:  #3b4cc0;\n",
       "            color:  #f1f1f1;\n",
       "        }    #T_9b296ee2_98b0_11ea_bb5c_9c305b13d6f0row4_col4 {\n",
       "            background-color:  #b40426;\n",
       "            color:  #f1f1f1;\n",
       "        }    #T_9b296ee2_98b0_11ea_bb5c_9c305b13d6f0row4_col5 {\n",
       "            background-color:  #3f53c6;\n",
       "            color:  #f1f1f1;\n",
       "        }    #T_9b296ee2_98b0_11ea_bb5c_9c305b13d6f0row4_col6 {\n",
       "            background-color:  #455cce;\n",
       "            color:  #f1f1f1;\n",
       "        }    #T_9b296ee2_98b0_11ea_bb5c_9c305b13d6f0row4_col7 {\n",
       "            background-color:  #4257c9;\n",
       "            color:  #f1f1f1;\n",
       "        }    #T_9b296ee2_98b0_11ea_bb5c_9c305b13d6f0row5_col0 {\n",
       "            background-color:  #3b4cc0;\n",
       "            color:  #f1f1f1;\n",
       "        }    #T_9b296ee2_98b0_11ea_bb5c_9c305b13d6f0row5_col1 {\n",
       "            background-color:  #3f53c6;\n",
       "            color:  #f1f1f1;\n",
       "        }    #T_9b296ee2_98b0_11ea_bb5c_9c305b13d6f0row5_col2 {\n",
       "            background-color:  #4961d2;\n",
       "            color:  #f1f1f1;\n",
       "        }    #T_9b296ee2_98b0_11ea_bb5c_9c305b13d6f0row5_col3 {\n",
       "            background-color:  #82a6fb;\n",
       "            color:  #000000;\n",
       "        }    #T_9b296ee2_98b0_11ea_bb5c_9c305b13d6f0row5_col4 {\n",
       "            background-color:  #88abfd;\n",
       "            color:  #000000;\n",
       "        }    #T_9b296ee2_98b0_11ea_bb5c_9c305b13d6f0row5_col5 {\n",
       "            background-color:  #b40426;\n",
       "            color:  #f1f1f1;\n",
       "        }    #T_9b296ee2_98b0_11ea_bb5c_9c305b13d6f0row5_col6 {\n",
       "            background-color:  #3f53c6;\n",
       "            color:  #f1f1f1;\n",
       "        }    #T_9b296ee2_98b0_11ea_bb5c_9c305b13d6f0row5_col7 {\n",
       "            background-color:  #3b4cc0;\n",
       "            color:  #f1f1f1;\n",
       "        }    #T_9b296ee2_98b0_11ea_bb5c_9c305b13d6f0row6_col0 {\n",
       "            background-color:  #4358cb;\n",
       "            color:  #f1f1f1;\n",
       "        }    #T_9b296ee2_98b0_11ea_bb5c_9c305b13d6f0row6_col1 {\n",
       "            background-color:  #5d7ce6;\n",
       "            color:  #000000;\n",
       "        }    #T_9b296ee2_98b0_11ea_bb5c_9c305b13d6f0row6_col2 {\n",
       "            background-color:  #3b4cc0;\n",
       "            color:  #f1f1f1;\n",
       "        }    #T_9b296ee2_98b0_11ea_bb5c_9c305b13d6f0row6_col3 {\n",
       "            background-color:  #84a7fc;\n",
       "            color:  #000000;\n",
       "        }    #T_9b296ee2_98b0_11ea_bb5c_9c305b13d6f0row6_col4 {\n",
       "            background-color:  #89acfd;\n",
       "            color:  #000000;\n",
       "        }    #T_9b296ee2_98b0_11ea_bb5c_9c305b13d6f0row6_col5 {\n",
       "            background-color:  #3b4cc0;\n",
       "            color:  #f1f1f1;\n",
       "        }    #T_9b296ee2_98b0_11ea_bb5c_9c305b13d6f0row6_col6 {\n",
       "            background-color:  #b40426;\n",
       "            color:  #f1f1f1;\n",
       "        }    #T_9b296ee2_98b0_11ea_bb5c_9c305b13d6f0row6_col7 {\n",
       "            background-color:  #3b4cc0;\n",
       "            color:  #f1f1f1;\n",
       "        }    #T_9b296ee2_98b0_11ea_bb5c_9c305b13d6f0row7_col0 {\n",
       "            background-color:  #3c4ec2;\n",
       "            color:  #f1f1f1;\n",
       "        }    #T_9b296ee2_98b0_11ea_bb5c_9c305b13d6f0row7_col1 {\n",
       "            background-color:  #4055c8;\n",
       "            color:  #f1f1f1;\n",
       "        }    #T_9b296ee2_98b0_11ea_bb5c_9c305b13d6f0row7_col2 {\n",
       "            background-color:  #445acc;\n",
       "            color:  #f1f1f1;\n",
       "        }    #T_9b296ee2_98b0_11ea_bb5c_9c305b13d6f0row7_col3 {\n",
       "            background-color:  #8badfd;\n",
       "            color:  #000000;\n",
       "        }    #T_9b296ee2_98b0_11ea_bb5c_9c305b13d6f0row7_col4 {\n",
       "            background-color:  #8badfd;\n",
       "            color:  #000000;\n",
       "        }    #T_9b296ee2_98b0_11ea_bb5c_9c305b13d6f0row7_col5 {\n",
       "            background-color:  #3c4ec2;\n",
       "            color:  #f1f1f1;\n",
       "        }    #T_9b296ee2_98b0_11ea_bb5c_9c305b13d6f0row7_col6 {\n",
       "            background-color:  #3f53c6;\n",
       "            color:  #f1f1f1;\n",
       "        }    #T_9b296ee2_98b0_11ea_bb5c_9c305b13d6f0row7_col7 {\n",
       "            background-color:  #b40426;\n",
       "            color:  #f1f1f1;\n",
       "        }</style><table id=\"T_9b296ee2_98b0_11ea_bb5c_9c305b13d6f0\" ><thead>    <tr>        <th class=\"blank level0\" ></th>        <th class=\"col_heading level0 col0\" >CreditScore</th>        <th class=\"col_heading level0 col1\" >Age</th>        <th class=\"col_heading level0 col2\" >Tenure</th>        <th class=\"col_heading level0 col3\" >Balance</th>        <th class=\"col_heading level0 col4\" >NumOfProducts</th>        <th class=\"col_heading level0 col5\" >HasCrCard</th>        <th class=\"col_heading level0 col6\" >IsActiveMember</th>        <th class=\"col_heading level0 col7\" >EstimatedSalary</th>    </tr></thead><tbody>\n",
       "                <tr>\n",
       "                        <th id=\"T_9b296ee2_98b0_11ea_bb5c_9c305b13d6f0level0_row0\" class=\"row_heading level0 row0\" >CreditScore</th>\n",
       "                        <td id=\"T_9b296ee2_98b0_11ea_bb5c_9c305b13d6f0row0_col0\" class=\"data row0 col0\" >1</td>\n",
       "                        <td id=\"T_9b296ee2_98b0_11ea_bb5c_9c305b13d6f0row0_col1\" class=\"data row0 col1\" >-0.004</td>\n",
       "                        <td id=\"T_9b296ee2_98b0_11ea_bb5c_9c305b13d6f0row0_col2\" class=\"data row0 col2\" >0.00084</td>\n",
       "                        <td id=\"T_9b296ee2_98b0_11ea_bb5c_9c305b13d6f0row0_col3\" class=\"data row0 col3\" >0.0063</td>\n",
       "                        <td id=\"T_9b296ee2_98b0_11ea_bb5c_9c305b13d6f0row0_col4\" class=\"data row0 col4\" >0.012</td>\n",
       "                        <td id=\"T_9b296ee2_98b0_11ea_bb5c_9c305b13d6f0row0_col5\" class=\"data row0 col5\" >-0.0055</td>\n",
       "                        <td id=\"T_9b296ee2_98b0_11ea_bb5c_9c305b13d6f0row0_col6\" class=\"data row0 col6\" >0.026</td>\n",
       "                        <td id=\"T_9b296ee2_98b0_11ea_bb5c_9c305b13d6f0row0_col7\" class=\"data row0 col7\" >-0.0014</td>\n",
       "            </tr>\n",
       "            <tr>\n",
       "                        <th id=\"T_9b296ee2_98b0_11ea_bb5c_9c305b13d6f0level0_row1\" class=\"row_heading level0 row1\" >Age</th>\n",
       "                        <td id=\"T_9b296ee2_98b0_11ea_bb5c_9c305b13d6f0row1_col0\" class=\"data row1 col0\" >-0.004</td>\n",
       "                        <td id=\"T_9b296ee2_98b0_11ea_bb5c_9c305b13d6f0row1_col1\" class=\"data row1 col1\" >1</td>\n",
       "                        <td id=\"T_9b296ee2_98b0_11ea_bb5c_9c305b13d6f0row1_col2\" class=\"data row1 col2\" >-0.01</td>\n",
       "                        <td id=\"T_9b296ee2_98b0_11ea_bb5c_9c305b13d6f0row1_col3\" class=\"data row1 col3\" >0.028</td>\n",
       "                        <td id=\"T_9b296ee2_98b0_11ea_bb5c_9c305b13d6f0row1_col4\" class=\"data row1 col4\" >-0.031</td>\n",
       "                        <td id=\"T_9b296ee2_98b0_11ea_bb5c_9c305b13d6f0row1_col5\" class=\"data row1 col5\" >-0.012</td>\n",
       "                        <td id=\"T_9b296ee2_98b0_11ea_bb5c_9c305b13d6f0row1_col6\" class=\"data row1 col6\" >0.085</td>\n",
       "                        <td id=\"T_9b296ee2_98b0_11ea_bb5c_9c305b13d6f0row1_col7\" class=\"data row1 col7\" >-0.0072</td>\n",
       "            </tr>\n",
       "            <tr>\n",
       "                        <th id=\"T_9b296ee2_98b0_11ea_bb5c_9c305b13d6f0level0_row2\" class=\"row_heading level0 row2\" >Tenure</th>\n",
       "                        <td id=\"T_9b296ee2_98b0_11ea_bb5c_9c305b13d6f0row2_col0\" class=\"data row2 col0\" >0.00084</td>\n",
       "                        <td id=\"T_9b296ee2_98b0_11ea_bb5c_9c305b13d6f0row2_col1\" class=\"data row2 col1\" >-0.01</td>\n",
       "                        <td id=\"T_9b296ee2_98b0_11ea_bb5c_9c305b13d6f0row2_col2\" class=\"data row2 col2\" >1</td>\n",
       "                        <td id=\"T_9b296ee2_98b0_11ea_bb5c_9c305b13d6f0row2_col3\" class=\"data row2 col3\" >-0.012</td>\n",
       "                        <td id=\"T_9b296ee2_98b0_11ea_bb5c_9c305b13d6f0row2_col4\" class=\"data row2 col4\" >0.013</td>\n",
       "                        <td id=\"T_9b296ee2_98b0_11ea_bb5c_9c305b13d6f0row2_col5\" class=\"data row2 col5\" >0.023</td>\n",
       "                        <td id=\"T_9b296ee2_98b0_11ea_bb5c_9c305b13d6f0row2_col6\" class=\"data row2 col6\" >-0.028</td>\n",
       "                        <td id=\"T_9b296ee2_98b0_11ea_bb5c_9c305b13d6f0row2_col7\" class=\"data row2 col7\" >0.0078</td>\n",
       "            </tr>\n",
       "            <tr>\n",
       "                        <th id=\"T_9b296ee2_98b0_11ea_bb5c_9c305b13d6f0level0_row3\" class=\"row_heading level0 row3\" >Balance</th>\n",
       "                        <td id=\"T_9b296ee2_98b0_11ea_bb5c_9c305b13d6f0row3_col0\" class=\"data row3 col0\" >0.0063</td>\n",
       "                        <td id=\"T_9b296ee2_98b0_11ea_bb5c_9c305b13d6f0row3_col1\" class=\"data row3 col1\" >0.028</td>\n",
       "                        <td id=\"T_9b296ee2_98b0_11ea_bb5c_9c305b13d6f0row3_col2\" class=\"data row3 col2\" >-0.012</td>\n",
       "                        <td id=\"T_9b296ee2_98b0_11ea_bb5c_9c305b13d6f0row3_col3\" class=\"data row3 col3\" >1</td>\n",
       "                        <td id=\"T_9b296ee2_98b0_11ea_bb5c_9c305b13d6f0row3_col4\" class=\"data row3 col4\" >-0.3</td>\n",
       "                        <td id=\"T_9b296ee2_98b0_11ea_bb5c_9c305b13d6f0row3_col5\" class=\"data row3 col5\" >-0.015</td>\n",
       "                        <td id=\"T_9b296ee2_98b0_11ea_bb5c_9c305b13d6f0row3_col6\" class=\"data row3 col6\" >-0.01</td>\n",
       "                        <td id=\"T_9b296ee2_98b0_11ea_bb5c_9c305b13d6f0row3_col7\" class=\"data row3 col7\" >0.013</td>\n",
       "            </tr>\n",
       "            <tr>\n",
       "                        <th id=\"T_9b296ee2_98b0_11ea_bb5c_9c305b13d6f0level0_row4\" class=\"row_heading level0 row4\" >NumOfProducts</th>\n",
       "                        <td id=\"T_9b296ee2_98b0_11ea_bb5c_9c305b13d6f0row4_col0\" class=\"data row4 col0\" >0.012</td>\n",
       "                        <td id=\"T_9b296ee2_98b0_11ea_bb5c_9c305b13d6f0row4_col1\" class=\"data row4 col1\" >-0.031</td>\n",
       "                        <td id=\"T_9b296ee2_98b0_11ea_bb5c_9c305b13d6f0row4_col2\" class=\"data row4 col2\" >0.013</td>\n",
       "                        <td id=\"T_9b296ee2_98b0_11ea_bb5c_9c305b13d6f0row4_col3\" class=\"data row4 col3\" >-0.3</td>\n",
       "                        <td id=\"T_9b296ee2_98b0_11ea_bb5c_9c305b13d6f0row4_col4\" class=\"data row4 col4\" >1</td>\n",
       "                        <td id=\"T_9b296ee2_98b0_11ea_bb5c_9c305b13d6f0row4_col5\" class=\"data row4 col5\" >0.0032</td>\n",
       "                        <td id=\"T_9b296ee2_98b0_11ea_bb5c_9c305b13d6f0row4_col6\" class=\"data row4 col6\" >0.0096</td>\n",
       "                        <td id=\"T_9b296ee2_98b0_11ea_bb5c_9c305b13d6f0row4_col7\" class=\"data row4 col7\" >0.014</td>\n",
       "            </tr>\n",
       "            <tr>\n",
       "                        <th id=\"T_9b296ee2_98b0_11ea_bb5c_9c305b13d6f0level0_row5\" class=\"row_heading level0 row5\" >HasCrCard</th>\n",
       "                        <td id=\"T_9b296ee2_98b0_11ea_bb5c_9c305b13d6f0row5_col0\" class=\"data row5 col0\" >-0.0055</td>\n",
       "                        <td id=\"T_9b296ee2_98b0_11ea_bb5c_9c305b13d6f0row5_col1\" class=\"data row5 col1\" >-0.012</td>\n",
       "                        <td id=\"T_9b296ee2_98b0_11ea_bb5c_9c305b13d6f0row5_col2\" class=\"data row5 col2\" >0.023</td>\n",
       "                        <td id=\"T_9b296ee2_98b0_11ea_bb5c_9c305b13d6f0row5_col3\" class=\"data row5 col3\" >-0.015</td>\n",
       "                        <td id=\"T_9b296ee2_98b0_11ea_bb5c_9c305b13d6f0row5_col4\" class=\"data row5 col4\" >0.0032</td>\n",
       "                        <td id=\"T_9b296ee2_98b0_11ea_bb5c_9c305b13d6f0row5_col5\" class=\"data row5 col5\" >1</td>\n",
       "                        <td id=\"T_9b296ee2_98b0_11ea_bb5c_9c305b13d6f0row5_col6\" class=\"data row5 col6\" >-0.012</td>\n",
       "                        <td id=\"T_9b296ee2_98b0_11ea_bb5c_9c305b13d6f0row5_col7\" class=\"data row5 col7\" >-0.0099</td>\n",
       "            </tr>\n",
       "            <tr>\n",
       "                        <th id=\"T_9b296ee2_98b0_11ea_bb5c_9c305b13d6f0level0_row6\" class=\"row_heading level0 row6\" >IsActiveMember</th>\n",
       "                        <td id=\"T_9b296ee2_98b0_11ea_bb5c_9c305b13d6f0row6_col0\" class=\"data row6 col0\" >0.026</td>\n",
       "                        <td id=\"T_9b296ee2_98b0_11ea_bb5c_9c305b13d6f0row6_col1\" class=\"data row6 col1\" >0.085</td>\n",
       "                        <td id=\"T_9b296ee2_98b0_11ea_bb5c_9c305b13d6f0row6_col2\" class=\"data row6 col2\" >-0.028</td>\n",
       "                        <td id=\"T_9b296ee2_98b0_11ea_bb5c_9c305b13d6f0row6_col3\" class=\"data row6 col3\" >-0.01</td>\n",
       "                        <td id=\"T_9b296ee2_98b0_11ea_bb5c_9c305b13d6f0row6_col4\" class=\"data row6 col4\" >0.0096</td>\n",
       "                        <td id=\"T_9b296ee2_98b0_11ea_bb5c_9c305b13d6f0row6_col5\" class=\"data row6 col5\" >-0.012</td>\n",
       "                        <td id=\"T_9b296ee2_98b0_11ea_bb5c_9c305b13d6f0row6_col6\" class=\"data row6 col6\" >1</td>\n",
       "                        <td id=\"T_9b296ee2_98b0_11ea_bb5c_9c305b13d6f0row6_col7\" class=\"data row6 col7\" >-0.011</td>\n",
       "            </tr>\n",
       "            <tr>\n",
       "                        <th id=\"T_9b296ee2_98b0_11ea_bb5c_9c305b13d6f0level0_row7\" class=\"row_heading level0 row7\" >EstimatedSalary</th>\n",
       "                        <td id=\"T_9b296ee2_98b0_11ea_bb5c_9c305b13d6f0row7_col0\" class=\"data row7 col0\" >-0.0014</td>\n",
       "                        <td id=\"T_9b296ee2_98b0_11ea_bb5c_9c305b13d6f0row7_col1\" class=\"data row7 col1\" >-0.0072</td>\n",
       "                        <td id=\"T_9b296ee2_98b0_11ea_bb5c_9c305b13d6f0row7_col2\" class=\"data row7 col2\" >0.0078</td>\n",
       "                        <td id=\"T_9b296ee2_98b0_11ea_bb5c_9c305b13d6f0row7_col3\" class=\"data row7 col3\" >0.013</td>\n",
       "                        <td id=\"T_9b296ee2_98b0_11ea_bb5c_9c305b13d6f0row7_col4\" class=\"data row7 col4\" >0.014</td>\n",
       "                        <td id=\"T_9b296ee2_98b0_11ea_bb5c_9c305b13d6f0row7_col5\" class=\"data row7 col5\" >-0.0099</td>\n",
       "                        <td id=\"T_9b296ee2_98b0_11ea_bb5c_9c305b13d6f0row7_col6\" class=\"data row7 col6\" >-0.011</td>\n",
       "                        <td id=\"T_9b296ee2_98b0_11ea_bb5c_9c305b13d6f0row7_col7\" class=\"data row7 col7\" >1</td>\n",
       "            </tr>\n",
       "    </tbody></table>"
      ],
      "text/plain": [
       "<pandas.io.formats.style.Styler at 0x27ae5e90400>"
      ]
     },
     "execution_count": 24,
     "metadata": {},
     "output_type": "execute_result"
    }
   ],
   "source": [
    "# visualize correlation analysis plot: predictors are independent of each other\n",
    "corr = df_corr.corr()\n",
    "corr.style.background_gradient(cmap='coolwarm').set_precision(2)"
   ]
  },
  {
   "cell_type": "markdown",
   "metadata": {},
   "source": [
    "## 4. Convert categorical variables to dummy variables"
   ]
  },
  {
   "cell_type": "markdown",
   "metadata": {},
   "source": [
    "* Data transformation, using one-hot encoding for 'Geography' (France, Germany, Spain) and 'Gender'(Female, Male) to convert categorical variables to dummy variables for the logistic regression model building."
   ]
  },
  {
   "cell_type": "code",
   "execution_count": 25,
   "metadata": {},
   "outputs": [],
   "source": [
    "# Represent “n” categories with “n - 1” columns, so start from 1 st column\n",
    "Geography_new = pd.get_dummies(df_original.Geography).iloc[:,1:]\n",
    "Gender_new = pd.get_dummies(df_original.Gender).iloc[:,1:]\n",
    "\n",
    "# Concatenate horizontally df and 'Geography_new' and 'Gender_new' dataframes \n",
    "df = pd.concat([df, Geography_new, Gender_new], axis=1)\n",
    "\n",
    "# Drop original 'Geography' and 'Gender'\n",
    "df = df.drop(columns=['Geography', 'Gender'])"
   ]
  },
  {
   "cell_type": "code",
   "execution_count": 26,
   "metadata": {},
   "outputs": [
    {
     "data": {
      "text/html": [
       "<div>\n",
       "<style scoped>\n",
       "    .dataframe tbody tr th:only-of-type {\n",
       "        vertical-align: middle;\n",
       "    }\n",
       "\n",
       "    .dataframe tbody tr th {\n",
       "        vertical-align: top;\n",
       "    }\n",
       "\n",
       "    .dataframe thead th {\n",
       "        text-align: right;\n",
       "    }\n",
       "</style>\n",
       "<table border=\"1\" class=\"dataframe\">\n",
       "  <thead>\n",
       "    <tr style=\"text-align: right;\">\n",
       "      <th></th>\n",
       "      <th>CreditScore</th>\n",
       "      <th>Age</th>\n",
       "      <th>Tenure</th>\n",
       "      <th>Balance</th>\n",
       "      <th>NumOfProducts</th>\n",
       "      <th>HasCrCard</th>\n",
       "      <th>IsActiveMember</th>\n",
       "      <th>EstimatedSalary</th>\n",
       "      <th>Exited</th>\n",
       "      <th>Germany</th>\n",
       "      <th>Spain</th>\n",
       "      <th>Male</th>\n",
       "    </tr>\n",
       "  </thead>\n",
       "  <tbody>\n",
       "    <tr>\n",
       "      <th>0</th>\n",
       "      <td>619</td>\n",
       "      <td>42</td>\n",
       "      <td>2</td>\n",
       "      <td>0.00</td>\n",
       "      <td>1</td>\n",
       "      <td>1</td>\n",
       "      <td>1</td>\n",
       "      <td>101348.88</td>\n",
       "      <td>1</td>\n",
       "      <td>0</td>\n",
       "      <td>0</td>\n",
       "      <td>0</td>\n",
       "    </tr>\n",
       "    <tr>\n",
       "      <th>1</th>\n",
       "      <td>608</td>\n",
       "      <td>41</td>\n",
       "      <td>1</td>\n",
       "      <td>83807.86</td>\n",
       "      <td>1</td>\n",
       "      <td>0</td>\n",
       "      <td>1</td>\n",
       "      <td>112542.58</td>\n",
       "      <td>0</td>\n",
       "      <td>0</td>\n",
       "      <td>1</td>\n",
       "      <td>0</td>\n",
       "    </tr>\n",
       "    <tr>\n",
       "      <th>2</th>\n",
       "      <td>502</td>\n",
       "      <td>42</td>\n",
       "      <td>8</td>\n",
       "      <td>159660.80</td>\n",
       "      <td>3</td>\n",
       "      <td>1</td>\n",
       "      <td>0</td>\n",
       "      <td>113931.57</td>\n",
       "      <td>1</td>\n",
       "      <td>0</td>\n",
       "      <td>0</td>\n",
       "      <td>0</td>\n",
       "    </tr>\n",
       "    <tr>\n",
       "      <th>3</th>\n",
       "      <td>699</td>\n",
       "      <td>39</td>\n",
       "      <td>1</td>\n",
       "      <td>0.00</td>\n",
       "      <td>2</td>\n",
       "      <td>0</td>\n",
       "      <td>0</td>\n",
       "      <td>93826.63</td>\n",
       "      <td>0</td>\n",
       "      <td>0</td>\n",
       "      <td>0</td>\n",
       "      <td>0</td>\n",
       "    </tr>\n",
       "    <tr>\n",
       "      <th>4</th>\n",
       "      <td>850</td>\n",
       "      <td>43</td>\n",
       "      <td>2</td>\n",
       "      <td>125510.82</td>\n",
       "      <td>1</td>\n",
       "      <td>1</td>\n",
       "      <td>1</td>\n",
       "      <td>79084.10</td>\n",
       "      <td>0</td>\n",
       "      <td>0</td>\n",
       "      <td>1</td>\n",
       "      <td>0</td>\n",
       "    </tr>\n",
       "  </tbody>\n",
       "</table>\n",
       "</div>"
      ],
      "text/plain": [
       "   CreditScore  Age  Tenure    Balance  NumOfProducts  HasCrCard  \\\n",
       "0          619   42       2       0.00              1          1   \n",
       "1          608   41       1   83807.86              1          0   \n",
       "2          502   42       8  159660.80              3          1   \n",
       "3          699   39       1       0.00              2          0   \n",
       "4          850   43       2  125510.82              1          1   \n",
       "\n",
       "   IsActiveMember  EstimatedSalary  Exited  Germany  Spain  Male  \n",
       "0               1        101348.88       1        0      0     0  \n",
       "1               1        112542.58       0        0      1     0  \n",
       "2               0        113931.57       1        0      0     0  \n",
       "3               0         93826.63       0        0      0     0  \n",
       "4               1         79084.10       0        0      1     0  "
      ]
     },
     "execution_count": 26,
     "metadata": {},
     "output_type": "execute_result"
    }
   ],
   "source": [
    "df.head()"
   ]
  },
  {
   "cell_type": "code",
   "execution_count": 27,
   "metadata": {},
   "outputs": [
    {
     "data": {
      "text/plain": [
       "(10000, 12)"
      ]
     },
     "execution_count": 27,
     "metadata": {},
     "output_type": "execute_result"
    }
   ],
   "source": [
    "df.shape"
   ]
  },
  {
   "cell_type": "markdown",
   "metadata": {},
   "source": [
    "## 5. Split training and testing datasets "
   ]
  },
  {
   "cell_type": "markdown",
   "metadata": {},
   "source": [
    "* First, I isolated 11 independent variables to X dataset and 1 target variable 'Exited' to y dataset from df. \n",
    "* Then, I split dataset by using function train_test_split(), so the X, y datasets are broken into two parts in a ratio of 80:20, which means 80% data will be used for model training and 20% for model testing. \n",
    "* Additionally, I set random_state equal to 2, which is the seed used by the random number generator to select records randomly. "
   ]
  },
  {
   "cell_type": "code",
   "execution_count": 28,
   "metadata": {},
   "outputs": [],
   "source": [
    "# Isolate independent variables to X dataset and target variable to y dataset from df\n",
    "X = df.drop(columns = ['Exited'])\n",
    "y = df['Exited']"
   ]
  },
  {
   "cell_type": "code",
   "execution_count": 29,
   "metadata": {},
   "outputs": [
    {
     "data": {
      "text/html": [
       "<div>\n",
       "<style scoped>\n",
       "    .dataframe tbody tr th:only-of-type {\n",
       "        vertical-align: middle;\n",
       "    }\n",
       "\n",
       "    .dataframe tbody tr th {\n",
       "        vertical-align: top;\n",
       "    }\n",
       "\n",
       "    .dataframe thead th {\n",
       "        text-align: right;\n",
       "    }\n",
       "</style>\n",
       "<table border=\"1\" class=\"dataframe\">\n",
       "  <thead>\n",
       "    <tr style=\"text-align: right;\">\n",
       "      <th></th>\n",
       "      <th>CreditScore</th>\n",
       "      <th>Age</th>\n",
       "      <th>Tenure</th>\n",
       "      <th>Balance</th>\n",
       "      <th>NumOfProducts</th>\n",
       "      <th>HasCrCard</th>\n",
       "      <th>IsActiveMember</th>\n",
       "      <th>EstimatedSalary</th>\n",
       "      <th>Germany</th>\n",
       "      <th>Spain</th>\n",
       "      <th>Male</th>\n",
       "    </tr>\n",
       "  </thead>\n",
       "  <tbody>\n",
       "    <tr>\n",
       "      <th>0</th>\n",
       "      <td>619</td>\n",
       "      <td>42</td>\n",
       "      <td>2</td>\n",
       "      <td>0.00</td>\n",
       "      <td>1</td>\n",
       "      <td>1</td>\n",
       "      <td>1</td>\n",
       "      <td>101348.88</td>\n",
       "      <td>0</td>\n",
       "      <td>0</td>\n",
       "      <td>0</td>\n",
       "    </tr>\n",
       "    <tr>\n",
       "      <th>1</th>\n",
       "      <td>608</td>\n",
       "      <td>41</td>\n",
       "      <td>1</td>\n",
       "      <td>83807.86</td>\n",
       "      <td>1</td>\n",
       "      <td>0</td>\n",
       "      <td>1</td>\n",
       "      <td>112542.58</td>\n",
       "      <td>0</td>\n",
       "      <td>1</td>\n",
       "      <td>0</td>\n",
       "    </tr>\n",
       "    <tr>\n",
       "      <th>2</th>\n",
       "      <td>502</td>\n",
       "      <td>42</td>\n",
       "      <td>8</td>\n",
       "      <td>159660.80</td>\n",
       "      <td>3</td>\n",
       "      <td>1</td>\n",
       "      <td>0</td>\n",
       "      <td>113931.57</td>\n",
       "      <td>0</td>\n",
       "      <td>0</td>\n",
       "      <td>0</td>\n",
       "    </tr>\n",
       "    <tr>\n",
       "      <th>3</th>\n",
       "      <td>699</td>\n",
       "      <td>39</td>\n",
       "      <td>1</td>\n",
       "      <td>0.00</td>\n",
       "      <td>2</td>\n",
       "      <td>0</td>\n",
       "      <td>0</td>\n",
       "      <td>93826.63</td>\n",
       "      <td>0</td>\n",
       "      <td>0</td>\n",
       "      <td>0</td>\n",
       "    </tr>\n",
       "    <tr>\n",
       "      <th>4</th>\n",
       "      <td>850</td>\n",
       "      <td>43</td>\n",
       "      <td>2</td>\n",
       "      <td>125510.82</td>\n",
       "      <td>1</td>\n",
       "      <td>1</td>\n",
       "      <td>1</td>\n",
       "      <td>79084.10</td>\n",
       "      <td>0</td>\n",
       "      <td>1</td>\n",
       "      <td>0</td>\n",
       "    </tr>\n",
       "  </tbody>\n",
       "</table>\n",
       "</div>"
      ],
      "text/plain": [
       "   CreditScore  Age  Tenure    Balance  NumOfProducts  HasCrCard  \\\n",
       "0          619   42       2       0.00              1          1   \n",
       "1          608   41       1   83807.86              1          0   \n",
       "2          502   42       8  159660.80              3          1   \n",
       "3          699   39       1       0.00              2          0   \n",
       "4          850   43       2  125510.82              1          1   \n",
       "\n",
       "   IsActiveMember  EstimatedSalary  Germany  Spain  Male  \n",
       "0               1        101348.88        0      0     0  \n",
       "1               1        112542.58        0      1     0  \n",
       "2               0        113931.57        0      0     0  \n",
       "3               0         93826.63        0      0     0  \n",
       "4               1         79084.10        0      1     0  "
      ]
     },
     "execution_count": 29,
     "metadata": {},
     "output_type": "execute_result"
    }
   ],
   "source": [
    "X.head()"
   ]
  },
  {
   "cell_type": "code",
   "execution_count": 30,
   "metadata": {},
   "outputs": [
    {
     "data": {
      "text/plain": [
       "0    1\n",
       "1    0\n",
       "2    1\n",
       "3    0\n",
       "4    0\n",
       "Name: Exited, dtype: int64"
      ]
     },
     "execution_count": 30,
     "metadata": {},
     "output_type": "execute_result"
    }
   ],
   "source": [
    "y.head()"
   ]
  },
  {
   "cell_type": "code",
   "execution_count": 31,
   "metadata": {},
   "outputs": [],
   "source": [
    "# Split training and testing datasets \n",
    "X_train, X_test, y_train, y_test = train_test_split(X, y, test_size = 0.2, random_state=2)"
   ]
  },
  {
   "cell_type": "markdown",
   "metadata": {},
   "source": [
    "## 6. Build and evaluate logistic model using Scikit-learn package"
   ]
  },
  {
   "cell_type": "markdown",
   "metadata": {},
   "source": [
    "* First, I applied sklearn package to build a logistic model using training data to fit it, and select the 'lbfgs' solver because it performs better for larger datasets, and I set max_iter to 500 to achieve better predictive accuracy. \n",
    "* Then, I printed the model coefficients for all 11 input variables and found: \n",
    "* (1) 'Age' has greatest impact to the response variable 'Exited', because the coefficient is 0.045 that means the higher the age, the more likely the client will churn. \n",
    "* (2) The higher the credit score (coefficient: -0.0051), the longer the tenure (coefficient: -0.0016), the client is an active member (coefficient: -0.0014), or the gender is male (coefficient: -0.0011), the client has lower probability to churn. \n",
    "* (3) 'Balance' (coefficient: 3.52594725e-06) and 'EstimatedSalary' (coefficient: -1.04331422e-06) almost have no impact to 'Exited', because th coefficients are too small. \n",
    "* Lastly, I evaluated my model by using classification report, confusion matrix and ROC curve. My model reached a classification rate of 79.95%, which considered as good accuracy using the test dataset. However, based on the classification report, my model has low precision 0.3125 (indicating accuracy of positive predictions of client churn) and recall 0.0392 (indicating the ability of a classifier to find all positive instances client churn). So, I plan to improve my regression model by variable selection. "
   ]
  },
  {
   "cell_type": "code",
   "execution_count": 32,
   "metadata": {},
   "outputs": [],
   "source": [
    "# Created a Logistic Regression classifier object using LogisticRegression() function\n",
    "# Built the model and specified a solver 'lbfgs') and set max_iter to 500\n",
    "log_reg = LogisticRegression(solver='lbfgs', max_iter=500)\n",
    "\n",
    "# Fit the model with training dataset using fit() \n",
    "log_reg.fit(X_train, y_train)\n",
    "\n",
    "# Perform prediction on the test dataset using predict()\n",
    "y_pred = log_reg.predict(X_test)"
   ]
  },
  {
   "cell_type": "code",
   "execution_count": 33,
   "metadata": {},
   "outputs": [
    {
     "data": {
      "text/plain": [
       "array([[-5.11879057e-03,  4.48020903e-02, -1.61850835e-03,\n",
       "         3.52594725e-06, -4.41863325e-04, -1.88557714e-04,\n",
       "        -1.36405189e-03, -1.04331422e-06,  9.58394929e-04,\n",
       "        -3.42199992e-04, -1.07969630e-03]])"
      ]
     },
     "execution_count": 33,
     "metadata": {},
     "output_type": "execute_result"
    }
   ],
   "source": [
    "# Print Logistic Model 11 Coefficients: \n",
    "# CreditScore, Age, Tenure, \n",
    "# Balance, NumOfProducts, HasCrCard, \n",
    "# IsActiveMember, EstimatedSalary, Germany, \n",
    "# Spain, Male\n",
    "\n",
    "log_reg.coef_"
   ]
  },
  {
   "cell_type": "code",
   "execution_count": 34,
   "metadata": {},
   "outputs": [
    {
     "name": "stdout",
     "output_type": "stream",
     "text": [
      "[[1584   33]\n",
      " [ 368   15]]\n"
     ]
    }
   ],
   "source": [
    "# Print confusion matrix: Diagonal values represent accurate predictions, while non-diagonal elements are inaccurate predictions\n",
    "# In the output, 1584 (TP / True Positive) and 15 (TN / True Negative) are actual and correct predictions, \n",
    "# while 33 (FN / False Negative) and 368 (FP / False Positive) are incorrect predictions.\n",
    "# Detailed explanation: \n",
    "# TP / True Positive: when a case was actually positive and predicted positive\n",
    "# TN / True Negative: when a case was actually negative and predicted negative\n",
    "# FN / False Negative: when a case was actually positive but predicted negative\n",
    "# FP / False Positive: when a case was actually negative but predicted positive\n",
    "\n",
    "print(confusion_matrix(y_test, y_pred))"
   ]
  },
  {
   "cell_type": "code",
   "execution_count": 35,
   "metadata": {},
   "outputs": [
    {
     "name": "stdout",
     "output_type": "stream",
     "text": [
      "Accuracy: 0.7995\n",
      "Precision: 0.3125\n",
      "Recall: 0.0391644908616188\n",
      "              precision    recall  f1-score   support\n",
      "\n",
      "           0       0.81      0.98      0.89      1617\n",
      "           1       0.31      0.04      0.07       383\n",
      "\n",
      "   micro avg       0.80      0.80      0.80      2000\n",
      "   macro avg       0.56      0.51      0.48      2000\n",
      "weighted avg       0.72      0.80      0.73      2000\n",
      "\n"
     ]
    }
   ],
   "source": [
    "# Accuracy: a classification rate \n",
    "print(\"Accuracy:\",accuracy_score(y_test, y_pred))\n",
    "\n",
    "# Precision is the accuracy of positive predictions: the ability not to label an instance positive that is actually negative. \n",
    "# Precision formula = TP/(TP + FP)\n",
    "print(\"Precision:\", precision_score(y_test, y_pred))\n",
    "\n",
    "# Recall is the ability of a classifier to find all positive instances: Recall formula = TP/(TP+FN)\n",
    "# In binary classification, recall of the positive class is known as “sensitivity”; recall of the negative class is “specificity”.\n",
    "print(\"Recall:\", recall_score(y_test, y_pred))\n",
    "\n",
    "# A more detail text report showing the main classification metrics\n",
    "print(classification_report(y_test, y_pred))  "
   ]
  },
  {
   "cell_type": "code",
   "execution_count": 36,
   "metadata": {},
   "outputs": [
    {
     "data": {
      "image/png": "[encoded data removed]",
      "text/plain": [
       "<Figure size 432x288 with 1 Axes>"
      ]
     },
     "metadata": {},
     "output_type": "display_data"
    }
   ],
   "source": [
    "# Receiver Operating Characteristic(ROC) curve is a plot of the true positive rate against the false positive rate. \n",
    "# It shows the tradeoff between sensitivity and specificity.\n",
    "\n",
    "y_pred_proba = log_reg.predict_proba(X_test)[:,1]\n",
    "fpr, tpr, _ = roc_curve(y_test,  y_pred_proba)\n",
    "auc = roc_auc_score(y_test, y_pred_proba)\n",
    "plt.plot(fpr,tpr,label=\"data, auc=\"+str(auc))\n",
    "plt.legend(loc=4)\n",
    "plt.show()"
   ]
  },
  {
   "cell_type": "markdown",
   "metadata": {},
   "source": [
    "## 7.  Improve the logistic model using 'statsmodels' to select independent variables "
   ]
  },
  {
   "cell_type": "markdown",
   "metadata": {},
   "source": [
    "* First, I build a new logistic regression model using another package 'statsmodels' to identify not significant independent variables. \n",
    "* Then, I dropped the 3 not significant 'Balance', 'EstimatedSalary' and 'Spain' because their p-value is larger than 0.05. That also indicates bank should consider less the clients account balance, future income and whether they come from Spain or France when predicting the probability to churn. \n",
    "* Finally, I used the rest 9 variables to fit my logistic regression model built in Scikit-learn again, and improved the classification accuracy rate to 81.5%.  \n",
    "* From the new classification report, my model has higher precision 0.5537, which means when my Logistic Regression model predicted clients are going to leave the bank, that clients will churn 55.4% of the time. My model also have a higher recall 0.1749, which indicates the ability of finding clients will churn. For example, for clients who have churned in the test dataset, my regression model can identify them 17.5% of the time.\n",
    "* Key findings from the model coefficients of 8 input variables: \n",
    "* (1) 'IsActiveMember' has greatest influence to the target variable 'Exited', because the coefficient is -1.0181. That means the more active the client is, the less likely he/she will churn. \n",
    "* (2) The 2 variables 'Germany' and 'Age' may cause clients to close the bank account, especially when clients are from Germany (coefficient: 0.9035) and have larger age (coefficient: 0.0725). \n",
    "* (3) If the client gender is male (coefficient: -0.57601), the more number of products owned (coefficient: -0.1574), the client has credit card (coefficient: -0.1041), and the longer the tenure (coefficient: -0.0197), the client has lower probability to churn. \n",
    "* (4) The credit score (coefficient: -8.47832261e-04) has the least impact to 'Exited', because the coefficient is too small. "
   ]
  },
  {
   "cell_type": "markdown",
   "metadata": {},
   "source": [
    "### 7.1. Build logistic regression model using statsmodels package"
   ]
  },
  {
   "cell_type": "code",
   "execution_count": 37,
   "metadata": {},
   "outputs": [
    {
     "name": "stdout",
     "output_type": "stream",
     "text": [
      "Optimization terminated successfully.\n",
      "         Current function value: 0.439147\n",
      "         Iterations 6\n",
      "                          Results: Logit\n",
      "==================================================================\n",
      "Model:              Logit            Pseudo R-squared: 0.138      \n",
      "Dependent Variable: Exited           AIC:              7048.3464  \n",
      "Date:               2020-05-17 22:39 BIC:              7125.2055  \n",
      "No. Observations:   8000             Log-Likelihood:   -3513.2    \n",
      "Df Model:           10               LL-Null:          -4076.9    \n",
      "Df Residuals:       7989             LLR p-value:      6.0574e-236\n",
      "Converged:          1.0000           Scale:            1.0000     \n",
      "No. Iterations:     6.0000                                        \n",
      "------------------------------------------------------------------\n",
      "                   Coef.  Std.Err.    z     P>|z|   [0.025  0.975]\n",
      "------------------------------------------------------------------\n",
      "CreditScore       -0.0036   0.0002 -17.2181 0.0000 -0.0041 -0.0032\n",
      "Age                0.0595   0.0026  22.9431 0.0000  0.0544  0.0645\n",
      "Tenure            -0.0435   0.0101  -4.2910 0.0000 -0.0634 -0.0236\n",
      "Balance            0.0000   0.0000   1.4693 0.1418 -0.0000  0.0000\n",
      "NumOfProducts     -0.3191   0.0502  -6.3572 0.0000 -0.4175 -0.2207\n",
      "HasCrCard         -0.2129   0.0633  -3.3640 0.0008 -0.3370 -0.0889\n",
      "IsActiveMember    -1.0466   0.0627 -16.6934 0.0000 -1.1695 -0.9237\n",
      "EstimatedSalary   -0.0000   0.0000  -0.9409 0.3468 -0.0000  0.0000\n",
      "Germany            0.8060   0.0751  10.7260 0.0000  0.6587  0.9533\n",
      "Spain             -0.0476   0.0777  -0.6128 0.5400 -0.1998  0.1046\n",
      "Male              -0.6511   0.0596 -10.9251 0.0000 -0.7679 -0.5343\n",
      "==================================================================\n",
      "\n"
     ]
    }
   ],
   "source": [
    "# Fit the logistic model using another package 'statsmodels', using maximum likelihood \n",
    "logit_model=sm.Logit(y_train, X_train)\n",
    "result=logit_model.fit()\n",
    "print(result.summary2())"
   ]
  },
  {
   "cell_type": "code",
   "execution_count": 38,
   "metadata": {},
   "outputs": [],
   "source": [
    "# p-values for most of the variables are smaller than 0.05, and drop not significant variables\n",
    "X_new = X_train.drop(['Balance', 'EstimatedSalary', 'Spain'], axis=1)\n",
    "y_new = y_train"
   ]
  },
  {
   "cell_type": "code",
   "execution_count": 39,
   "metadata": {},
   "outputs": [
    {
     "name": "stdout",
     "output_type": "stream",
     "text": [
      "Optimization terminated successfully.\n",
      "         Current function value: 0.439349\n",
      "         Iterations 6\n",
      "                          Results: Logit\n",
      "==================================================================\n",
      "Model:              Logit            Pseudo R-squared: 0.138      \n",
      "Dependent Variable: Exited           AIC:              7045.5765  \n",
      "Date:               2020-05-17 22:39 BIC:              7101.4741  \n",
      "No. Observations:   8000             Log-Likelihood:   -3514.8    \n",
      "Df Model:           7                LL-Null:          -4076.9    \n",
      "Df Residuals:       7992             LLR p-value:      1.6271e-238\n",
      "Converged:          1.0000           Scale:            1.0000     \n",
      "No. Iterations:     6.0000                                        \n",
      "------------------------------------------------------------------\n",
      "                   Coef.  Std.Err.    z     P>|z|   [0.025  0.975]\n",
      "------------------------------------------------------------------\n",
      "CreditScore       -0.0036   0.0002 -18.3223 0.0000 -0.0040 -0.0032\n",
      "Age                0.0595   0.0026  23.1419 0.0000  0.0545  0.0646\n",
      "Tenure            -0.0433   0.0101  -4.2839 0.0000 -0.0631 -0.0235\n",
      "NumOfProducts     -0.3397   0.0489  -6.9507 0.0000 -0.4355 -0.2439\n",
      "HasCrCard         -0.2133   0.0632  -3.3745 0.0007 -0.3372 -0.0894\n",
      "IsActiveMember    -1.0453   0.0627 -16.6769 0.0000 -1.1681 -0.9224\n",
      "Germany            0.8653   0.0636  13.5941 0.0000  0.7405  0.9900\n",
      "Male              -0.6484   0.0595 -10.9025 0.0000 -0.7650 -0.5318\n",
      "==================================================================\n",
      "\n"
     ]
    }
   ],
   "source": [
    "logit_model_new=sm.Logit(y_new, X_new)\n",
    "result_new=logit_model_new.fit()\n",
    "print(result_new.summary2())"
   ]
  },
  {
   "cell_type": "code",
   "execution_count": 42,
   "metadata": {},
   "outputs": [
    {
     "name": "stdout",
     "output_type": "stream",
     "text": [
      "Optimization terminated successfully.\n",
      "         Current function value: 0.439349\n",
      "         Iterations 6\n"
     ]
    },
    {
     "data": {
      "text/plain": [
       "CreditScore      -0.003616\n",
       "Age               0.059522\n",
       "Tenure           -0.043290\n",
       "NumOfProducts    -0.339743\n",
       "HasCrCard        -0.213317\n",
       "IsActiveMember   -1.045285\n",
       "Germany           0.865261\n",
       "Male             -0.648398\n",
       "dtype: float64"
      ]
     },
     "execution_count": 42,
     "metadata": {},
     "output_type": "execute_result"
    }
   ],
   "source": [
    "# Improved Logistic Model Coefficients: \n",
    "logit_model_new.fit().params"
   ]
  },
  {
   "cell_type": "markdown",
   "metadata": {},
   "source": [
    "### 7.2. Improved logistic regression model in Scikit-learn using new training datasets "
   ]
  },
  {
   "cell_type": "code",
   "execution_count": 43,
   "metadata": {},
   "outputs": [],
   "source": [
    "# Fit logistic regression model again use X_new, y_new \n",
    "log_reg_new = LogisticRegression(solver='lbfgs', max_iter=500)\n",
    "log_reg_new.fit(X_new, y_new)\n",
    "\n",
    "# Drop 3 inputs from X_test to match the number of variables in X_new\n",
    "X_test_new=X_test.drop(['Balance', 'EstimatedSalary', 'Spain'], axis=1)\n",
    "y_pred_new = log_reg_new.predict(X_test_new)"
   ]
  },
  {
   "cell_type": "code",
   "execution_count": 44,
   "metadata": {},
   "outputs": [
    {
     "data": {
      "text/plain": [
       "array([[-8.47832261e-04,  7.24943096e-02, -1.96874154e-02,\n",
       "        -1.57396549e-01, -1.04065327e-01, -1.01812087e+00,\n",
       "         9.03489021e-01, -5.76013025e-01]])"
      ]
     },
     "execution_count": 44,
     "metadata": {},
     "output_type": "execute_result"
    }
   ],
   "source": [
    "# Improved Logistic Model Coefficients: \n",
    "# CreditScore, Age, Tenure, \n",
    "# NumOfProducts, HasCrCard, IsActiveMember, \n",
    "# Germany, Male\n",
    "\n",
    "log_reg_new.coef_"
   ]
  },
  {
   "cell_type": "code",
   "execution_count": 45,
   "metadata": {},
   "outputs": [
    {
     "name": "stdout",
     "output_type": "stream",
     "text": [
      "Accuracy: 0.815\n",
      "Precision: 0.5537190082644629\n",
      "Recall: 0.17493472584856398\n",
      "              precision    recall  f1-score   support\n",
      "\n",
      "           0       0.83      0.97      0.89      1617\n",
      "           1       0.55      0.17      0.27       383\n",
      "\n",
      "   micro avg       0.81      0.81      0.81      2000\n",
      "   macro avg       0.69      0.57      0.58      2000\n",
      "weighted avg       0.78      0.81      0.77      2000\n",
      "\n"
     ]
    }
   ],
   "source": [
    "print('Accuracy:', accuracy_score(y_test, y_pred_new))\n",
    "print('Precision:', precision_score(y_test, y_pred_new))\n",
    "print('Recall:', recall_score(y_test, y_pred_new))\n",
    "print(classification_report(y_test, y_pred_new))  "
   ]
  },
  {
   "cell_type": "markdown",
   "metadata": {},
   "source": [
    "## 8. Build a random forest model to compare with logistic regression model"
   ]
  },
  {
   "cell_type": "markdown",
   "metadata": {},
   "source": [
    "* I created a random forest non-parameter model (test accuracy is 86.85%) to compare with the parameter logistic regression model. I set number of parameters (the number of trees in the forest) to 400 based on trial-and-error and set random state to 2. \n",
    "* I split dataset by using the same ratio of 80:20, so 80% data will be used for model training and 20% for model testing. \n",
    "* Then, I generated classification report, which shows my model has higher precision 0.7536, which is much higher than my final Logistic Regression model (0.5537). Therefore, bank has more confidence when use the random forest model to predict if clients will leave the bank, and clients will churn 75.36% of the time. My model also has an increased recall 0.5210 than the recall in Logistic regression model 0.1749. For instance, for clients who have churned in the test dataset, my random forest model can identify them 52.10% of the time.\n",
    "* I ranked the importance of 11 independent variables. The top 5 variables are 'Age', 'EstimatedSalary', 'Balance', 'CreditScore' and 'Number of Products'. \n",
    "* Additionally, I tried to fit the random forest model using selected 8 independent variables, but the test accuracy decreased to 85.5%. The top 4 variables are 'Age', 'CreditScore', 'Number of Products' and 'Tenure'. \n",
    "* To summarize the two models results, bank should pay more attention to 'Age', 'CreditScore' and 'Number of Products' to retain their clients. "
   ]
  },
  {
   "cell_type": "markdown",
   "metadata": {},
   "source": [
    "### 8.1. Develop a simple random forest model using all features"
   ]
  },
  {
   "cell_type": "code",
   "execution_count": 46,
   "metadata": {},
   "outputs": [],
   "source": [
    "# Split training and testing datasets for random forest model\n",
    "rf_X =  df.drop(['Exited'], axis=1)\n",
    "rf_y = df['Exited']\n",
    "rf_X_train, rf_X_test, rf_y_train, rf_y_test = train_test_split(rf_X, rf_y, test_size = 0.2, random_state = 0)"
   ]
  },
  {
   "cell_type": "code",
   "execution_count": 47,
   "metadata": {},
   "outputs": [],
   "source": [
    "# Fit random forest model: try different parameters and check model accuracy\n",
    "# rf_classifier = RandomForestClassifier(n_estimators=200, random_state=0)  \n",
    "\n",
    "rf_classifier = RandomForestClassifier(n_estimators=400, random_state=2)  \n",
    "rf_classifier.fit(rf_X_train, rf_y_train)  \n",
    "rf_predictions = rf_classifier.predict(rf_X_test)"
   ]
  },
  {
   "cell_type": "code",
   "execution_count": 48,
   "metadata": {},
   "outputs": [
    {
     "name": "stdout",
     "output_type": "stream",
     "text": [
      "Accuracy: 0.8685\n",
      "Precision: 0.7535714285714286\n",
      "Recall: 0.5209876543209877\n",
      "              precision    recall  f1-score   support\n",
      "\n",
      "           0       0.89      0.96      0.92      1595\n",
      "           1       0.75      0.52      0.62       405\n",
      "\n",
      "   micro avg       0.87      0.87      0.87      2000\n",
      "   macro avg       0.82      0.74      0.77      2000\n",
      "weighted avg       0.86      0.87      0.86      2000\n",
      "\n"
     ]
    }
   ],
   "source": [
    "print('Accuracy:', accuracy_score(rf_y_test, rf_predictions))\n",
    "print('Precision:', precision_score(rf_y_test, rf_predictions))\n",
    "print('Recall:', recall_score(rf_y_test, rf_predictions))\n",
    "print(classification_report(rf_y_test, rf_predictions))  "
   ]
  },
  {
   "cell_type": "code",
   "execution_count": 49,
   "metadata": {},
   "outputs": [
    {
     "data": {
      "image/png": "[encoded data removed]",
      "text/plain": [
       "<Figure size 432x288 with 1 Axes>"
      ]
     },
     "metadata": {},
     "output_type": "display_data"
    }
   ],
   "source": [
    "# Rank the importance of 11 independent variables\n",
    "feat_importances = pd.Series(rf_classifier.feature_importances_, index=rf_X.columns)\n",
    "feat_importances.nlargest(11).plot(kind='barh')\n",
    "plt.show()"
   ]
  },
  {
   "cell_type": "markdown",
   "metadata": {},
   "source": [
    "### 8.2. Explore the random forest model using selected features"
   ]
  },
  {
   "cell_type": "code",
   "execution_count": 50,
   "metadata": {},
   "outputs": [],
   "source": [
    "# Drop 3 not significant variables and create new dataframs re_X_new\n",
    "rf_X_train_new = rf_X_train.drop(['Balance', 'EstimatedSalary', 'Spain'], axis=1)"
   ]
  },
  {
   "cell_type": "code",
   "execution_count": 51,
   "metadata": {},
   "outputs": [],
   "source": [
    "# Fit random forest model again\n",
    "rf_classifier_new = RandomForestClassifier(n_estimators=400, random_state=2)  \n",
    "rf_classifier_new.fit(rf_X_train_new, rf_y_train)  \n",
    "\n",
    "# Drop 3 inputs from rf_X_test to match the number of variables in X_new\n",
    "rf_X_test_new = rf_X_test.drop(['Balance', 'EstimatedSalary', 'Spain'], axis=1)\n",
    "rf_predictions_new = rf_classifier_new.predict(rf_X_test_new)"
   ]
  },
  {
   "cell_type": "code",
   "execution_count": 52,
   "metadata": {},
   "outputs": [
    {
     "name": "stdout",
     "output_type": "stream",
     "text": [
      "Accuracy: 0.855\n",
      "Precision: 0.6910299003322259\n",
      "Recall: 0.5135802469135803\n",
      "              precision    recall  f1-score   support\n",
      "\n",
      "           0       0.88      0.94      0.91      1595\n",
      "           1       0.69      0.51      0.59       405\n",
      "\n",
      "   micro avg       0.85      0.85      0.85      2000\n",
      "   macro avg       0.79      0.73      0.75      2000\n",
      "weighted avg       0.84      0.85      0.85      2000\n",
      "\n"
     ]
    }
   ],
   "source": [
    "print('Accuracy:', accuracy_score(rf_y_test, rf_predictions_new))\n",
    "print('Precision:', precision_score(rf_y_test, rf_predictions_new))\n",
    "print('Recall:', recall_score(rf_y_test, rf_predictions_new))\n",
    "print(classification_report(rf_y_test, rf_predictions_new))  "
   ]
  },
  {
   "cell_type": "code",
   "execution_count": 53,
   "metadata": {},
   "outputs": [
    {
     "data": {
      "image/png": "[encoded data removed]",
      "text/plain": [
       "<Figure size 432x288 with 1 Axes>"
      ]
     },
     "metadata": {},
     "output_type": "display_data"
    }
   ],
   "source": [
    "# Rank the importance of 8 independent variables\n",
    "feat_importances = pd.Series(rf_classifier_new.feature_importances_, index=rf_X_train_new.columns)\n",
    "feat_importances.nlargest(8).plot(kind='barh')\n",
    "plt.show()"
   ]
  },
  {
   "cell_type": "markdown",
   "metadata": {},
   "source": [
    "## 9. Conclusion & Future Consideration"
   ]
  },
  {
   "cell_type": "markdown",
   "metadata": {},
   "source": [
    "__In conclusion, my logistic regression model displayed a high accuracy of 81.5%, indicated that the relevant features could significantly influence clients in terms of whether leaving the bank or not. Based on the model result, we could offer valuable insights and practical recommendations for the bank to decrease the client churn rate, especially for clients non-active, have larger age, and come from Germany. \n",
    "Additionally, the model could also be applied to compute an individual’s probability and predict his/her intention to close the bank account given the relevant data inputs. Therefore, the bank could identify clients who are more likely to churn in advance. The corresponding departments would then take effective actions, such as providing appealing retention offers.__"
   ]
  },
  {
   "cell_type": "markdown",
   "metadata": {},
   "source": [
    "__The future directions to improve my client churn models are collecting additional information of bank clients and conducting more predictive model comparisons and understanding the different model results. First, more information related to bank clients should be collected and added to the current dataset, such as the specific type of financial product clients owned and their preference of choosing those products. For model comparisons, I will further consider the trade-off of model accuracy and interpretability when I select predictive models. Although my logistic regression model has lower accuracy rate than random forest model, it can clearly explain and interpret the effects of independent variables by explicitly showing coefficients and corresponding p-values. Additionally, I want to find the deeper reasons why logistic regression model asks me to drop three less significant variables 'Balance', 'EstimatedSalary' and 'Spain', while random forest model shows 'Balance' and 'EstimatedSalary' are important features to make better prediction of client churn (Two types of models both indicate variable 'Spain' is not significant).__"
   ]
  },
  {
   "cell_type": "markdown",
   "metadata": {},
   "source": [
    "Reference: \n",
    "* (1) Understanding Logistic Regression in Python: https://www.datacamp.com/community/tutorials/understanding-logistic-regression-python\n",
    "* (2) Building A Logistic Regression in Python, Step by Step: https://towardsdatascience.com/building-a-logistic-regression-in-python-step-by-step-becd4d56c9c8\n",
    "* (3) Explanations of parameters of sklearn.ensemble.RandomForestClassifier: https://blog.csdn.net/ustbbsy/article/details/79541546\n",
    "* (4) sklearn.linear_model.LogisticRegression: https://scikit-learn.org/stable/modules/generated/sklearn.linear_model.LogisticRegression.html\n",
    "* (5) Bank Customer Churn Prediction: https://www.kaggle.com/kmalit/bank-customer-churn-prediction/data\n",
    "\n"
   ]
  }
 ],
 "metadata": {
  "kernelspec": {
   "display_name": "Python 3",
   "language": "python",
   "name": "python3"
  },
  "language_info": {
   "codemirror_mode": {
    "name": "ipython",
    "version": 3
   },
   "file_extension": ".py",
   "mimetype": "text/x-python",
   "name": "python",
   "nbconvert_exporter": "python",
   "pygments_lexer": "ipython3",
   "version": "3.7.3"
  }
 },
 "nbformat": 4,
 "nbformat_minor": 2
}
